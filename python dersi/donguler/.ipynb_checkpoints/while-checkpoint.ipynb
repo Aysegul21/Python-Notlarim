{
 "cells": [
  {
   "cell_type": "code",
   "execution_count": 1,
   "id": "d115091a",
   "metadata": {},
   "outputs": [],
   "source": [
    "#while dongusu"
   ]
  },
  {
   "cell_type": "code",
   "execution_count": 4,
   "id": "086a10e1",
   "metadata": {},
   "outputs": [
    {
     "name": "stdout",
     "output_type": "stream",
     "text": [
      "i'nin degeri 0\n",
      "i'nin degeri 1\n",
      "i'nin degeri 2\n",
      "i'nin degeri 3\n",
      "i'nin degeri 4\n",
      "i'nin degeri 5\n",
      "i'nin degeri 6\n",
      "i'nin degeri 7\n",
      "i'nin degeri 8\n",
      "i'nin degeri 9\n"
     ]
    }
   ],
   "source": [
    "i=0\n",
    "\n",
    "while (i < 10):\n",
    "    print(\"i'nin degeri\",i)\n",
    "    i+=1"
   ]
  },
  {
   "cell_type": "code",
   "execution_count": 5,
   "id": "dc733586",
   "metadata": {},
   "outputs": [
    {
     "name": "stdout",
     "output_type": "stream",
     "text": [
      "1\n",
      "2\n",
      "3\n",
      "4\n",
      "5\n"
     ]
    }
   ],
   "source": [
    "liste =[1,2,3,4,5]\n",
    "\n",
    "for i in liste:\n",
    "    print(i)"
   ]
  },
  {
   "cell_type": "code",
   "execution_count": 6,
   "id": "88ecf9ef",
   "metadata": {},
   "outputs": [
    {
     "name": "stdout",
     "output_type": "stream",
     "text": [
      "1\n",
      "2\n",
      "3\n",
      "4\n",
      "5\n"
     ]
    }
   ],
   "source": [
    "liste =[1,2,3,4,5]\n",
    "i=0\n",
    "j=0\n",
    "while(liste[-1] != liste[j]):\n",
    "    i =liste[j]\n",
    "    print(i)\n",
    "    j+=1\n",
    "i =liste[j]\n",
    "print(i)"
   ]
  },
  {
   "cell_type": "code",
   "execution_count": 7,
   "id": "dd070243",
   "metadata": {},
   "outputs": [],
   "source": [
    "#range() fonksiyonu"
   ]
  },
  {
   "cell_type": "code",
   "execution_count": 8,
   "id": "47e2c557",
   "metadata": {},
   "outputs": [
    {
     "data": {
      "text/plain": [
       "range(0, 20)"
      ]
     },
     "execution_count": 8,
     "metadata": {},
     "output_type": "execute_result"
    }
   ],
   "source": [
    "range(0,20)"
   ]
  },
  {
   "cell_type": "code",
   "execution_count": 9,
   "id": "82e1db1d",
   "metadata": {},
   "outputs": [
    {
     "name": "stdout",
     "output_type": "stream",
     "text": [
      "0 1 2 3 4 5 6 7 8 9 10 11 12 13 14 15 16 17 18 19\n"
     ]
    }
   ],
   "source": [
    "range(0,20)\n",
    "print(*range(0,20))"
   ]
  },
  {
   "cell_type": "code",
   "execution_count": 10,
   "id": "9d787330",
   "metadata": {},
   "outputs": [
    {
     "name": "stdout",
     "output_type": "stream",
     "text": [
      "0 1 2 3 4 5 6 7 8 9 10 11 12 13 14 15 16 17 18 19\n"
     ]
    }
   ],
   "source": [
    "print(*range(20))"
   ]
  },
  {
   "cell_type": "code",
   "execution_count": 11,
   "id": "80738c3c",
   "metadata": {},
   "outputs": [
    {
     "name": "stdout",
     "output_type": "stream",
     "text": [
      "0 2 4 6 8 10 12 14 16 18\n"
     ]
    }
   ],
   "source": [
    "print(*range(0,20,2))"
   ]
  },
  {
   "cell_type": "code",
   "execution_count": 12,
   "id": "5eb30b91",
   "metadata": {},
   "outputs": [
    {
     "name": "stdout",
     "output_type": "stream",
     "text": [
      "\n"
     ]
    }
   ],
   "source": [
    "print(*range(20,0))"
   ]
  },
  {
   "cell_type": "code",
   "execution_count": 13,
   "id": "310baf84",
   "metadata": {},
   "outputs": [
    {
     "name": "stdout",
     "output_type": "stream",
     "text": [
      "20 19 18 17 16 15 14 13 12 11 10 9 8 7 6 5 4 3 2 1\n"
     ]
    }
   ],
   "source": [
    "print(*range(20,0,-1))"
   ]
  },
  {
   "cell_type": "code",
   "execution_count": 14,
   "id": "931f8205",
   "metadata": {},
   "outputs": [
    {
     "name": "stdout",
     "output_type": "stream",
     "text": [
      "1\n",
      "2\n",
      "3\n",
      "4\n",
      "5\n"
     ]
    }
   ],
   "source": [
    "liste = [1,2,3,4,5]\n",
    "for i in liste:\n",
    "    print(i)"
   ]
  },
  {
   "cell_type": "code",
   "execution_count": 15,
   "id": "9412091b",
   "metadata": {},
   "outputs": [
    {
     "name": "stdout",
     "output_type": "stream",
     "text": [
      "     *\n",
      "    ***\n",
      "   *****\n",
      "  *******\n",
      " *********\n"
     ]
    }
   ],
   "source": [
    "toplam=1\n",
    "ekle=0\n",
    "ekle2=0\n",
    "for i in range(1,6):\n",
    "    ekle = toplam - ekle2\n",
    "    ekle2 += ekle\n",
    "    print(\" \"*(6-i-1),\"*\"*ekle)\n",
    "    toplam = (i+1)**2"
   ]
  },
  {
   "cell_type": "code",
   "execution_count": 16,
   "id": "d955bf6b",
   "metadata": {},
   "outputs": [],
   "source": [
    "#break ifadesi"
   ]
  },
  {
   "cell_type": "code",
   "execution_count": 2,
   "id": "e01c8c6f",
   "metadata": {},
   "outputs": [
    {
     "name": "stdout",
     "output_type": "stream",
     "text": [
      "0\n",
      "1\n",
      "2\n",
      "3\n",
      "4\n",
      "5\n",
      "6\n",
      "7\n",
      "8\n",
      "9\n"
     ]
    }
   ],
   "source": [
    "i=0\n",
    "while(i<10):\n",
    "    print(i)\n",
    "    i+=1"
   ]
  },
  {
   "cell_type": "code",
   "execution_count": null,
   "id": "d41a9f84",
   "metadata": {},
   "outputs": [],
   "source": [
    "i=0\n",
    "\n",
    "while(i<10):\n",
    "    if(i == 7):\n",
    "        continue\n",
    "    print(i) \n",
    "    i+=1"
   ]
  },
  {
   "cell_type": "code",
   "execution_count": null,
   "id": "6e74e44e",
   "metadata": {},
   "outputs": [],
   "source": [
    "while True:\n",
    "    isim = input(\"isminizi giriniz: cikmak icin q ya basiniz:\")\n",
    "    if(isim == \"q\"):\n",
    "        break\n",
    "    "
   ]
  },
  {
   "cell_type": "code",
   "execution_count": 28,
   "id": "655b245a",
   "metadata": {},
   "outputs": [],
   "source": [
    "#continue ifadesi\n",
    "#continue  ifadesiyle karsilastigildigi zaman\n",
    "#geri kalan islemleri yapmadan blogun basina doner"
   ]
  },
  {
   "cell_type": "code",
   "execution_count": 1,
   "id": "5d91b2db",
   "metadata": {},
   "outputs": [
    {
     "name": "stdout",
     "output_type": "stream",
     "text": [
      "i: 0\n",
      "i: 1\n",
      "i: 2\n",
      "i: 4\n",
      "i: 6\n",
      "i: 7\n",
      "i: 8\n",
      "i: 9\n",
      "i: 10\n"
     ]
    }
   ],
   "source": [
    "liste = list(range(11))\n",
    "\n",
    "for i in liste:\n",
    "    if(i==3 or i==5):\n",
    "        continue\n",
    "    print(\"i:\",i)"
   ]
  },
  {
   "cell_type": "code",
   "execution_count": null,
   "id": "8ca3cd4a",
   "metadata": {},
   "outputs": [],
   "source": []
  }
 ],
 "metadata": {
  "kernelspec": {
   "display_name": "Python 3 (ipykernel)",
   "language": "python",
   "name": "python3"
  },
  "language_info": {
   "codemirror_mode": {
    "name": "ipython",
    "version": 3
   },
   "file_extension": ".py",
   "mimetype": "text/x-python",
   "name": "python",
   "nbconvert_exporter": "python",
   "pygments_lexer": "ipython3",
   "version": "3.10.9"
  }
 },
 "nbformat": 4,
 "nbformat_minor": 5
}
