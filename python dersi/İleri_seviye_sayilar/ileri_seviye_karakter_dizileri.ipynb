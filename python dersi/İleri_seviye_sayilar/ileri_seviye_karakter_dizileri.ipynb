{
 "cells": [
  {
   "cell_type": "code",
   "execution_count": 1,
   "id": "08ba23d4",
   "metadata": {},
   "outputs": [
    {
     "data": {
      "text/plain": [
       "'PYTHON'"
      ]
     },
     "execution_count": 1,
     "metadata": {},
     "output_type": "execute_result"
    }
   ],
   "source": [
    "\"python\".upper() #tum karakterleri buyuk harfe donusturme"
   ]
  },
  {
   "cell_type": "code",
   "execution_count": 3,
   "id": "320461c4",
   "metadata": {},
   "outputs": [
    {
     "data": {
      "text/plain": [
       "'python'"
      ]
     },
     "execution_count": 3,
     "metadata": {},
     "output_type": "execute_result"
    }
   ],
   "source": [
    "\"PYTHon\".lower() #tum karakterleri kucuk harfe donusturme"
   ]
  },
  {
   "cell_type": "code",
   "execution_count": 6,
   "id": "1f429aa6",
   "metadata": {},
   "outputs": [
    {
     "data": {
      "text/plain": [
       "'beniw ogrenwe yolculuguw'"
      ]
     },
     "execution_count": 6,
     "metadata": {},
     "output_type": "execute_result"
    }
   ],
   "source": [
    "\"benim ogrenme yolculugum\".replace(\"m\",\"w\") \n",
    "#replace(\"x\",\"y\") x ile y yi yer degistirir"
   ]
  },
  {
   "cell_type": "code",
   "execution_count": 8,
   "id": "f0119ccd",
   "metadata": {},
   "outputs": [
    {
     "data": {
      "text/plain": [
       "'python,programlama,dili'"
      ]
     },
     "execution_count": 8,
     "metadata": {},
     "output_type": "execute_result"
    }
   ],
   "source": [
    "\"python programlama dili\".replace(\" \",\",\")"
   ]
  },
  {
   "cell_type": "code",
   "execution_count": 9,
   "id": "b968a6c0",
   "metadata": {},
   "outputs": [
    {
     "data": {
      "text/plain": [
       "'ayceegul'"
      ]
     },
     "execution_count": 9,
     "metadata": {},
     "output_type": "execute_result"
    }
   ],
   "source": [
    "\"aysegul\".replace(\"se\",\"cee\")"
   ]
  },
  {
   "cell_type": "code",
   "execution_count": 10,
   "id": "683247fd",
   "metadata": {},
   "outputs": [],
   "source": [
    "#starswith(x) : string x ile basliyorsa True,baslamiyorsa False degeri dondurur \n",
    "#endswith(x)  : string x ile bitiyorsa True,bitmiyorsa False degeri dondurur "
   ]
  },
  {
   "cell_type": "code",
   "execution_count": 11,
   "id": "516e604a",
   "metadata": {},
   "outputs": [
    {
     "data": {
      "text/plain": [
       "False"
      ]
     },
     "execution_count": 11,
     "metadata": {},
     "output_type": "execute_result"
    }
   ],
   "source": [
    "\"Python\".startswith(\"p\")"
   ]
  },
  {
   "cell_type": "code",
   "execution_count": 12,
   "id": "36d6e26f",
   "metadata": {},
   "outputs": [
    {
     "data": {
      "text/plain": [
       "True"
      ]
     },
     "execution_count": 12,
     "metadata": {},
     "output_type": "execute_result"
    }
   ],
   "source": [
    "\"Python\".startswith(\"P\")"
   ]
  },
  {
   "cell_type": "code",
   "execution_count": 13,
   "id": "d86ec34c",
   "metadata": {},
   "outputs": [],
   "source": [
    "#split(a): verilen bir a degerine gore string parcalara ayrilir \n",
    "#herbir parca listelere aktarılır"
   ]
  },
  {
   "cell_type": "code",
   "execution_count": 14,
   "id": "4edd2b6f",
   "metadata": {},
   "outputs": [],
   "source": [
    "liste = \"python programlama dili \".split(\" \")"
   ]
  },
  {
   "cell_type": "code",
   "execution_count": 15,
   "id": "2e1b43c1",
   "metadata": {},
   "outputs": [
    {
     "name": "stdout",
     "output_type": "stream",
     "text": [
      "['python', 'programlama', 'dili', '']\n"
     ]
    }
   ],
   "source": [
    "print(liste)"
   ]
  },
  {
   "cell_type": "code",
   "execution_count": 16,
   "id": "2539ef52",
   "metadata": {},
   "outputs": [],
   "source": [
    "#strip(x) : string basinda ve  sonunda bulunan x degerini siler\n",
    "#lstrip(x) : string sadece basinda bulunan x degerini siler\n",
    "#rstrip(x) : string sadece sonunda bulunan x degerini siler"
   ]
  },
  {
   "cell_type": "code",
   "execution_count": 40,
   "id": "462e936c",
   "metadata": {},
   "outputs": [
    {
     "data": {
      "text/plain": [
       "'python'"
      ]
     },
     "execution_count": 40,
     "metadata": {},
     "output_type": "execute_result"
    }
   ],
   "source": [
    "\"             python         \".strip(\" \")\n",
    "#fonksiyon icine hicbisey yazmazsak bosluk karakterini siler"
   ]
  },
  {
   "cell_type": "code",
   "execution_count": 21,
   "id": "27191998",
   "metadata": {},
   "outputs": [
    {
     "data": {
      "text/plain": [
       "'         python'"
      ]
     },
     "execution_count": 21,
     "metadata": {},
     "output_type": "execute_result"
    }
   ],
   "source": [
    "\"    python          \".rstrip()\n"
   ]
  },
  {
   "cell_type": "code",
   "execution_count": 23,
   "id": "7306087f",
   "metadata": {},
   "outputs": [
    {
     "data": {
      "text/plain": [
       "'44444444 python '"
      ]
     },
     "execution_count": 23,
     "metadata": {},
     "output_type": "execute_result"
    }
   ],
   "source": [
    "\"44444444 python 44444444\".rstrip(\"4\")"
   ]
  },
  {
   "cell_type": "code",
   "execution_count": 24,
   "id": "111c822b",
   "metadata": {},
   "outputs": [],
   "source": [
    "#join() listenin elemanlarını bir string degeriyle \n",
    "#birlestirmemizi saglar"
   ]
  },
  {
   "cell_type": "code",
   "execution_count": 25,
   "id": "6bdfe474",
   "metadata": {},
   "outputs": [],
   "source": [
    "liste = [\"23\",\"08\",\"2023\"]"
   ]
  },
  {
   "cell_type": "code",
   "execution_count": 26,
   "id": "5f0f3bc0",
   "metadata": {},
   "outputs": [
    {
     "data": {
      "text/plain": [
       "'23/08/2023'"
      ]
     },
     "execution_count": 26,
     "metadata": {},
     "output_type": "execute_result"
    }
   ],
   "source": [
    "\"/\".join(liste)"
   ]
  },
  {
   "cell_type": "code",
   "execution_count": 29,
   "id": "635c58a0",
   "metadata": {},
   "outputs": [],
   "source": [
    "#count(x) : string icerisindeki x degerini sayar\n",
    "#count(x,index) : string icerisindeki x degerini verilen index\n",
    "#degerinden baslayarak saymaya baslar"
   ]
  },
  {
   "cell_type": "code",
   "execution_count": 30,
   "id": "bc6b48d9",
   "metadata": {},
   "outputs": [
    {
     "data": {
      "text/plain": [
       "5"
      ]
     },
     "execution_count": 30,
     "metadata": {},
     "output_type": "execute_result"
    }
   ],
   "source": [
    "\"bugunde devam ediyor hersey \".count(\"e\")"
   ]
  },
  {
   "cell_type": "code",
   "execution_count": 32,
   "id": "b52131d7",
   "metadata": {},
   "outputs": [
    {
     "data": {
      "text/plain": [
       "4"
      ]
     },
     "execution_count": 32,
     "metadata": {},
     "output_type": "execute_result"
    }
   ],
   "source": [
    "\"bugunde devam ediyor hersey \".count(\"e\",7)"
   ]
  },
  {
   "cell_type": "code",
   "execution_count": 33,
   "id": "1742dcdd",
   "metadata": {},
   "outputs": [],
   "source": [
    "#find(x): x degerinin baştan itibaren string içinde arar ve \n",
    "#bulursa ilk bulduğu indeksi döndürür. bulamazsa \"-1\" degerini \n",
    "#verir\n",
    "#rfind(x): x degerinin sondan itibaren string içinde arar ve \n",
    "#bulursa ilk bulduğu indeksi döndürür. bulamazsa \"-1\" degerini \n",
    "#verir"
   ]
  },
  {
   "cell_type": "code",
   "execution_count": 34,
   "id": "d11ffb62",
   "metadata": {},
   "outputs": [
    {
     "data": {
      "text/plain": [
       "0"
      ]
     },
     "execution_count": 34,
     "metadata": {},
     "output_type": "execute_result"
    }
   ],
   "source": [
    "\"araba\".find(\"a\")"
   ]
  },
  {
   "cell_type": "code",
   "execution_count": 35,
   "id": "93f1389d",
   "metadata": {},
   "outputs": [
    {
     "data": {
      "text/plain": [
       "-1"
      ]
     },
     "execution_count": 35,
     "metadata": {},
     "output_type": "execute_result"
    }
   ],
   "source": [
    "\"araba\".rfind(\"s\")"
   ]
  },
  {
   "cell_type": "code",
   "execution_count": 36,
   "id": "55d5717f",
   "metadata": {},
   "outputs": [
    {
     "data": {
      "text/plain": [
       "4"
      ]
     },
     "execution_count": 36,
     "metadata": {},
     "output_type": "execute_result"
    }
   ],
   "source": [
    "\"araba\".rfind(\"a\")"
   ]
  },
  {
   "cell_type": "code",
   "execution_count": null,
   "id": "42abc994",
   "metadata": {},
   "outputs": [],
   "source": []
  }
 ],
 "metadata": {
  "kernelspec": {
   "display_name": "Python 3 (ipykernel)",
   "language": "python",
   "name": "python3"
  },
  "language_info": {
   "codemirror_mode": {
    "name": "ipython",
    "version": 3
   },
   "file_extension": ".py",
   "mimetype": "text/x-python",
   "name": "python",
   "nbconvert_exporter": "python",
   "pygments_lexer": "ipython3",
   "version": "3.10.9"
  }
 },
 "nbformat": 4,
 "nbformat_minor": 5
}
