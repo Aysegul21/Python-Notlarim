{
 "cells": [
  {
   "cell_type": "code",
   "execution_count": 1,
   "id": "4809c7a4",
   "metadata": {},
   "outputs": [],
   "source": [
    "x = {1,2,3}"
   ]
  },
  {
   "cell_type": "code",
   "execution_count": 2,
   "id": "01384509",
   "metadata": {},
   "outputs": [
    {
     "data": {
      "text/plain": [
       "set"
      ]
     },
     "execution_count": 2,
     "metadata": {},
     "output_type": "execute_result"
    }
   ],
   "source": [
    "type(x)"
   ]
  },
  {
   "cell_type": "code",
   "execution_count": 3,
   "id": "a4700c57",
   "metadata": {},
   "outputs": [],
   "source": [
    "x = set()"
   ]
  },
  {
   "cell_type": "code",
   "execution_count": 4,
   "id": "5fdc13ed",
   "metadata": {},
   "outputs": [
    {
     "data": {
      "text/plain": [
       "set"
      ]
     },
     "execution_count": 4,
     "metadata": {},
     "output_type": "execute_result"
    }
   ],
   "source": [
    "type(x)"
   ]
  },
  {
   "cell_type": "code",
   "execution_count": 5,
   "id": "2b165d4c",
   "metadata": {},
   "outputs": [],
   "source": [
    "liste = [1,2,3,3,1,1,2,2,2]"
   ]
  },
  {
   "cell_type": "code",
   "execution_count": 6,
   "id": "86d46b2a",
   "metadata": {},
   "outputs": [],
   "source": [
    "x = set(liste)"
   ]
  },
  {
   "cell_type": "code",
   "execution_count": 7,
   "id": "53d7102a",
   "metadata": {},
   "outputs": [
    {
     "data": {
      "text/plain": [
       "{1, 2, 3}"
      ]
     },
     "execution_count": 7,
     "metadata": {},
     "output_type": "execute_result"
    }
   ],
   "source": [
    "x"
   ]
  },
  {
   "cell_type": "code",
   "execution_count": 8,
   "id": "8aba320f",
   "metadata": {},
   "outputs": [],
   "source": [
    "x = set(\"python programlama dili\")"
   ]
  },
  {
   "cell_type": "code",
   "execution_count": 10,
   "id": "7ebaf84b",
   "metadata": {},
   "outputs": [
    {
     "data": {
      "text/plain": [
       "{' ', 'a', 'd', 'g', 'h', 'i', 'l', 'm', 'n', 'o', 'p', 'r', 't', 'y'}"
      ]
     },
     "execution_count": 10,
     "metadata": {},
     "output_type": "execute_result"
    }
   ],
   "source": [
    "x"
   ]
  },
  {
   "cell_type": "code",
   "execution_count": 11,
   "id": "338385a9",
   "metadata": {},
   "outputs": [],
   "source": [
    "x = {\"python\",\"php\",\"python\"}"
   ]
  },
  {
   "cell_type": "code",
   "execution_count": 15,
   "id": "d9b4d650",
   "metadata": {},
   "outputs": [
    {
     "data": {
      "text/plain": [
       "{'php', 'python'}"
      ]
     },
     "execution_count": 15,
     "metadata": {},
     "output_type": "execute_result"
    }
   ],
   "source": [
    "x"
   ]
  },
  {
   "cell_type": "code",
   "execution_count": 20,
   "id": "be5ce8f9",
   "metadata": {},
   "outputs": [],
   "source": [
    "x = {\"muz\",\"elma\",\"armut\",\"kivi\",\"karpuz\"}"
   ]
  },
  {
   "cell_type": "code",
   "execution_count": 21,
   "id": "39321105",
   "metadata": {},
   "outputs": [
    {
     "name": "stdout",
     "output_type": "stream",
     "text": [
      "elma\n",
      "kivi\n",
      "armut\n",
      "karpuz\n",
      "muz\n"
     ]
    }
   ],
   "source": [
    "for i in x:\n",
    "    print(i)"
   ]
  },
  {
   "cell_type": "code",
   "execution_count": 22,
   "id": "18eb1261",
   "metadata": {},
   "outputs": [],
   "source": [
    "x = {\"muz\",\"elma\",\"armut\",\"kivi\",\"karpuz\"}"
   ]
  },
  {
   "cell_type": "code",
   "execution_count": 23,
   "id": "e5d84968",
   "metadata": {},
   "outputs": [
    {
     "ename": "TypeError",
     "evalue": "'set' object is not subscriptable",
     "output_type": "error",
     "traceback": [
      "\u001b[0;31m---------------------------------------------------------------------------\u001b[0m",
      "\u001b[0;31mTypeError\u001b[0m                                 Traceback (most recent call last)",
      "Cell \u001b[0;32mIn[23], line 1\u001b[0m\n\u001b[0;32m----> 1\u001b[0m \u001b[43mx\u001b[49m\u001b[43m[\u001b[49m\u001b[38;5;241;43m0\u001b[39;49m\u001b[43m]\u001b[49m\n",
      "\u001b[0;31mTypeError\u001b[0m: 'set' object is not subscriptable"
     ]
    }
   ],
   "source": [
    "x[0]"
   ]
  },
  {
   "cell_type": "code",
   "execution_count": 24,
   "id": "ddc8b03d",
   "metadata": {},
   "outputs": [
    {
     "ename": "TypeError",
     "evalue": "'set' object is not subscriptable",
     "output_type": "error",
     "traceback": [
      "\u001b[0;31m---------------------------------------------------------------------------\u001b[0m",
      "\u001b[0;31mTypeError\u001b[0m                                 Traceback (most recent call last)",
      "Cell \u001b[0;32mIn[24], line 1\u001b[0m\n\u001b[0;32m----> 1\u001b[0m \u001b[43mx\u001b[49m\u001b[43m[\u001b[49m\u001b[38;5;124;43m\"\u001b[39;49m\u001b[38;5;124;43mmuz\u001b[39;49m\u001b[38;5;124;43m\"\u001b[39;49m\u001b[43m]\u001b[49m\n",
      "\u001b[0;31mTypeError\u001b[0m: 'set' object is not subscriptable"
     ]
    }
   ],
   "source": [
    "x[\"muz\"]"
   ]
  },
  {
   "cell_type": "code",
   "execution_count": 25,
   "id": "de983cf6",
   "metadata": {},
   "outputs": [],
   "source": [
    "liste = list(x)"
   ]
  },
  {
   "cell_type": "code",
   "execution_count": 26,
   "id": "929bdf61",
   "metadata": {},
   "outputs": [
    {
     "name": "stdout",
     "output_type": "stream",
     "text": [
      "elma\n",
      "kivi\n",
      "armut\n",
      "karpuz\n",
      "muz\n"
     ]
    }
   ],
   "source": [
    "for i in liste:\n",
    "    print(i)"
   ]
  },
  {
   "cell_type": "code",
   "execution_count": 27,
   "id": "667f0a9d",
   "metadata": {},
   "outputs": [
    {
     "data": {
      "text/plain": [
       "['elma', 'kivi', 'armut', 'karpuz', 'muz']"
      ]
     },
     "execution_count": 27,
     "metadata": {},
     "output_type": "execute_result"
    }
   ],
   "source": [
    "liste"
   ]
  },
  {
   "cell_type": "code",
   "execution_count": 28,
   "id": "b18cbcef",
   "metadata": {},
   "outputs": [
    {
     "data": {
      "text/plain": [
       "'elma'"
      ]
     },
     "execution_count": 28,
     "metadata": {},
     "output_type": "execute_result"
    }
   ],
   "source": [
    "liste[0]"
   ]
  },
  {
   "cell_type": "code",
   "execution_count": 29,
   "id": "42eb0fd4",
   "metadata": {},
   "outputs": [],
   "source": [
    "#KUMELERIN METODLARI"
   ]
  },
  {
   "cell_type": "code",
   "execution_count": 30,
   "id": "618c771d",
   "metadata": {},
   "outputs": [],
   "source": [
    "# Eleman eklemek : add() metodu"
   ]
  },
  {
   "cell_type": "code",
   "execution_count": 31,
   "id": "d3c20ecb",
   "metadata": {},
   "outputs": [],
   "source": [
    "x = {1,2,3}"
   ]
  },
  {
   "cell_type": "code",
   "execution_count": 32,
   "id": "bd8f5aee",
   "metadata": {},
   "outputs": [],
   "source": [
    "x.add(4)"
   ]
  },
  {
   "cell_type": "code",
   "execution_count": 33,
   "id": "3e84f7e7",
   "metadata": {},
   "outputs": [
    {
     "data": {
      "text/plain": [
       "{1, 2, 3, 4}"
      ]
     },
     "execution_count": 33,
     "metadata": {},
     "output_type": "execute_result"
    }
   ],
   "source": [
    "x"
   ]
  },
  {
   "cell_type": "code",
   "execution_count": 34,
   "id": "8c8145a1",
   "metadata": {},
   "outputs": [],
   "source": [
    "x.add(4) # tekrar eklenmiyor."
   ]
  },
  {
   "cell_type": "code",
   "execution_count": 35,
   "id": "be5cff98",
   "metadata": {},
   "outputs": [
    {
     "data": {
      "text/plain": [
       "{1, 2, 3, 4}"
      ]
     },
     "execution_count": 35,
     "metadata": {},
     "output_type": "execute_result"
    }
   ],
   "source": [
    "x"
   ]
  },
  {
   "cell_type": "code",
   "execution_count": 36,
   "id": "0308be70",
   "metadata": {},
   "outputs": [],
   "source": [
    "#iki kumenin farkı : difference(): metodu\n",
    "#Bu method birinci kümenin ikinci kümeden farkına döner\n",
    "#kume1.difference(kume2) : kume1'nin kume2 den farkı"
   ]
  },
  {
   "cell_type": "code",
   "execution_count": 37,
   "id": "eeca42ab",
   "metadata": {},
   "outputs": [],
   "source": [
    "kume1 = {1,2,3,10,34,100,-2}\n",
    "kume2 = {1,2,23,34,-1}"
   ]
  },
  {
   "cell_type": "code",
   "execution_count": 38,
   "id": "b59dae8c",
   "metadata": {},
   "outputs": [
    {
     "data": {
      "text/plain": [
       "{-2, 3, 10, 100}"
      ]
     },
     "execution_count": 38,
     "metadata": {},
     "output_type": "execute_result"
    }
   ],
   "source": [
    "kume1.difference(kume2) "
   ]
  },
  {
   "cell_type": "code",
   "execution_count": 39,
   "id": "f62ae6f5",
   "metadata": {},
   "outputs": [
    {
     "data": {
      "text/plain": [
       "{-1, 23}"
      ]
     },
     "execution_count": 39,
     "metadata": {},
     "output_type": "execute_result"
    }
   ],
   "source": [
    "kume2.difference(kume1) "
   ]
  },
  {
   "cell_type": "code",
   "execution_count": 40,
   "id": "533fd00a",
   "metadata": {},
   "outputs": [
    {
     "data": {
      "text/plain": [
       "{-2, 1, 2, 3, 10, 34, 100}"
      ]
     },
     "execution_count": 40,
     "metadata": {},
     "output_type": "execute_result"
    }
   ],
   "source": [
    "kume1"
   ]
  },
  {
   "cell_type": "code",
   "execution_count": 41,
   "id": "7d5cfc95",
   "metadata": {},
   "outputs": [
    {
     "data": {
      "text/plain": [
       "{-1, 1, 2, 23, 34}"
      ]
     },
     "execution_count": 41,
     "metadata": {},
     "output_type": "execute_result"
    }
   ],
   "source": [
    "kume2"
   ]
  },
  {
   "cell_type": "code",
   "execution_count": 44,
   "id": "4775c99e",
   "metadata": {},
   "outputs": [],
   "source": [
    "kume1.difference_update(kume2)\n",
    "#kume1 in kume2 den farkını kume1 e atanır"
   ]
  },
  {
   "cell_type": "code",
   "execution_count": 45,
   "id": "96734223",
   "metadata": {},
   "outputs": [
    {
     "data": {
      "text/plain": [
       "{-2, 3, 10, 100}"
      ]
     },
     "execution_count": 45,
     "metadata": {},
     "output_type": "execute_result"
    }
   ],
   "source": [
    "kume1"
   ]
  },
  {
   "cell_type": "code",
   "execution_count": 46,
   "id": "3eca72cc",
   "metadata": {},
   "outputs": [],
   "source": [
    "#kumeden eleman cikarma : discard() method\n",
    "#icinde verilen degeri kumeden cikartir. Eger kumede oyle bir \n",
    "#deger yoksa bu method hicbir sey yapmaz(hata vermez!)"
   ]
  },
  {
   "cell_type": "markdown",
   "id": "b8d21d13",
   "metadata": {},
   "source": [
    "kume1 = {1,2,3,4,5,6}"
   ]
  },
  {
   "cell_type": "code",
   "execution_count": 48,
   "id": "87229cd5",
   "metadata": {},
   "outputs": [],
   "source": [
    "kume1.discard(4)"
   ]
  },
  {
   "cell_type": "code",
   "execution_count": 49,
   "id": "55acc1ca",
   "metadata": {},
   "outputs": [
    {
     "data": {
      "text/plain": [
       "{1, 2, 3, 5, 6}"
      ]
     },
     "execution_count": 49,
     "metadata": {},
     "output_type": "execute_result"
    }
   ],
   "source": [
    "kume1"
   ]
  },
  {
   "cell_type": "code",
   "execution_count": 50,
   "id": "3dafe4d7",
   "metadata": {},
   "outputs": [],
   "source": [
    "kume1.discard(44)"
   ]
  },
  {
   "cell_type": "code",
   "execution_count": 51,
   "id": "4dac84ab",
   "metadata": {},
   "outputs": [
    {
     "data": {
      "text/plain": [
       "{1, 2, 3, 5, 6}"
      ]
     },
     "execution_count": 51,
     "metadata": {},
     "output_type": "execute_result"
    }
   ],
   "source": [
    "kume1"
   ]
  },
  {
   "cell_type": "code",
   "execution_count": 52,
   "id": "d685d655",
   "metadata": {},
   "outputs": [],
   "source": [
    "#kume kesisimleri : intersection() method\n",
    "#Bu method ii kumenin kesismelerini bulmamızı saglar"
   ]
  },
  {
   "cell_type": "code",
   "execution_count": 53,
   "id": "1e086b89",
   "metadata": {},
   "outputs": [],
   "source": [
    "kume1 = {1,2,3,4,5,6,7,8,9}\n",
    "kume2 = {2,4,6,8,10,12,14,16}"
   ]
  },
  {
   "cell_type": "code",
   "execution_count": 54,
   "id": "8f4f2379",
   "metadata": {},
   "outputs": [
    {
     "data": {
      "text/plain": [
       "{2, 4, 6, 8}"
      ]
     },
     "execution_count": 54,
     "metadata": {},
     "output_type": "execute_result"
    }
   ],
   "source": [
    "kume1.intersection(kume2)"
   ]
  },
  {
   "cell_type": "code",
   "execution_count": 55,
   "id": "7beb4e0a",
   "metadata": {},
   "outputs": [
    {
     "data": {
      "text/plain": [
       "{2, 4, 6, 8}"
      ]
     },
     "execution_count": 55,
     "metadata": {},
     "output_type": "execute_result"
    }
   ],
   "source": [
    "kume1.intersection(kume2)"
   ]
  },
  {
   "cell_type": "code",
   "execution_count": 58,
   "id": "3203f5f7",
   "metadata": {},
   "outputs": [],
   "source": [
    "kume1.intersection_update(kume2)#kume1 ve kume2 kesisimini kume1 olarak yeniler"
   ]
  },
  {
   "cell_type": "code",
   "execution_count": 59,
   "id": "d272c4e6",
   "metadata": {},
   "outputs": [
    {
     "data": {
      "text/plain": [
       "{2, 4, 6, 8}"
      ]
     },
     "execution_count": 59,
     "metadata": {},
     "output_type": "execute_result"
    }
   ],
   "source": [
    "kume1"
   ]
  },
  {
   "cell_type": "code",
   "execution_count": 60,
   "id": "0e177164",
   "metadata": {},
   "outputs": [
    {
     "data": {
      "text/plain": [
       "{2, 4, 6, 8, 10, 12, 14, 16}"
      ]
     },
     "execution_count": 60,
     "metadata": {},
     "output_type": "execute_result"
    }
   ],
   "source": [
    "kume2"
   ]
  },
  {
   "cell_type": "code",
   "execution_count": 61,
   "id": "ea92aeee",
   "metadata": {},
   "outputs": [],
   "source": [
    "#kumeler ayrik mi? : isdisjoint() method\n",
    "#Bu method eger kumelerin kesisim kumesi bos kume ise True\n",
    "#degilse False"
   ]
  },
  {
   "cell_type": "code",
   "execution_count": 63,
   "id": "d85b5ea3",
   "metadata": {},
   "outputs": [
    {
     "data": {
      "text/plain": [
       "False"
      ]
     },
     "execution_count": 63,
     "metadata": {},
     "output_type": "execute_result"
    }
   ],
   "source": [
    "kume1.isdisjoint(kume2)"
   ]
  },
  {
   "cell_type": "code",
   "execution_count": 64,
   "id": "5737e22f",
   "metadata": {},
   "outputs": [],
   "source": [
    "#Alt kumesi mi? issubset() method\n",
    "#Bu method  birinci kume ikinci kumenin alt kumesiyse True \n",
    "#degilse False donudur"
   ]
  },
  {
   "cell_type": "code",
   "execution_count": 65,
   "id": "028a5789",
   "metadata": {},
   "outputs": [
    {
     "data": {
      "text/plain": [
       "True"
      ]
     },
     "execution_count": 65,
     "metadata": {},
     "output_type": "execute_result"
    }
   ],
   "source": [
    "kume1.issubset(kume2)"
   ]
  },
  {
   "cell_type": "code",
   "execution_count": 68,
   "id": "1364fb0e",
   "metadata": {},
   "outputs": [],
   "source": [
    "#Birlesim kumesi : union() method\n",
    "#bu method iki kumenin birlesim kumesini doner"
   ]
  },
  {
   "cell_type": "code",
   "execution_count": 71,
   "id": "403d3950",
   "metadata": {},
   "outputs": [
    {
     "data": {
      "text/plain": [
       "{2, 4, 6, 8, 10, 12, 14, 16}"
      ]
     },
     "execution_count": 71,
     "metadata": {},
     "output_type": "execute_result"
    }
   ],
   "source": [
    "kume1.union(kume2)"
   ]
  },
  {
   "cell_type": "code",
   "execution_count": 72,
   "id": "d3796421",
   "metadata": {},
   "outputs": [
    {
     "data": {
      "text/plain": [
       "{2, 4, 6, 8}"
      ]
     },
     "execution_count": 72,
     "metadata": {},
     "output_type": "execute_result"
    }
   ],
   "source": [
    "kume1"
   ]
  },
  {
   "cell_type": "code",
   "execution_count": 75,
   "id": "b23f9860",
   "metadata": {},
   "outputs": [],
   "source": [
    "kume1.update(kume2)\n",
    "#birinci kumeylee ikinci kumenin birlesim kumesini doner ve \n",
    "#birinci kumeyi buna gore duzenler"
   ]
  },
  {
   "cell_type": "code",
   "execution_count": 76,
   "id": "4170248e",
   "metadata": {},
   "outputs": [
    {
     "data": {
      "text/plain": [
       "{2, 4, 6, 8, 10, 12, 14, 16}"
      ]
     },
     "execution_count": 76,
     "metadata": {},
     "output_type": "execute_result"
    }
   ],
   "source": [
    "kume1"
   ]
  },
  {
   "cell_type": "code",
   "execution_count": null,
   "id": "d50c07ba",
   "metadata": {},
   "outputs": [],
   "source": []
  }
 ],
 "metadata": {
  "kernelspec": {
   "display_name": "Python 3 (ipykernel)",
   "language": "python",
   "name": "python3"
  },
  "language_info": {
   "codemirror_mode": {
    "name": "ipython",
    "version": 3
   },
   "file_extension": ".py",
   "mimetype": "text/x-python",
   "name": "python",
   "nbconvert_exporter": "python",
   "pygments_lexer": "ipython3",
   "version": "3.10.9"
  }
 },
 "nbformat": 4,
 "nbformat_minor": 5
}
