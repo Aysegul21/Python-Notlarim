{
 "cells": [
  {
   "cell_type": "code",
   "execution_count": 1,
   "id": "bbcd657f",
   "metadata": {},
   "outputs": [],
   "source": [
    "liste = [1,2,3,4,5]"
   ]
  },
  {
   "cell_type": "code",
   "execution_count": 2,
   "id": "f2725664",
   "metadata": {},
   "outputs": [],
   "source": [
    "liste.append(6)"
   ]
  },
  {
   "cell_type": "code",
   "execution_count": 3,
   "id": "2896b4cd",
   "metadata": {},
   "outputs": [
    {
     "data": {
      "text/plain": [
       "[1, 2, 3, 4, 5, 6]"
      ]
     },
     "execution_count": 3,
     "metadata": {},
     "output_type": "execute_result"
    }
   ],
   "source": [
    "liste"
   ]
  },
  {
   "cell_type": "code",
   "execution_count": 4,
   "id": "c47370bf",
   "metadata": {},
   "outputs": [],
   "source": [
    "liste1 = [1,2,3,4,5,6,7]\n",
    "liste2 = [10,20,30]"
   ]
  },
  {
   "cell_type": "code",
   "execution_count": 5,
   "id": "ca434b47",
   "metadata": {},
   "outputs": [],
   "source": [
    "liste1.extend(liste2)"
   ]
  },
  {
   "cell_type": "code",
   "execution_count": 6,
   "id": "0d67fe38",
   "metadata": {},
   "outputs": [
    {
     "data": {
      "text/plain": [
       "[1, 2, 3, 4, 5, 6, 7, 10, 20, 30]"
      ]
     },
     "execution_count": 6,
     "metadata": {},
     "output_type": "execute_result"
    }
   ],
   "source": [
    "liste1"
   ]
  },
  {
   "cell_type": "code",
   "execution_count": 17,
   "id": "5ac9a535",
   "metadata": {},
   "outputs": [],
   "source": [
    "liste.insert(2,\"python\")"
   ]
  },
  {
   "cell_type": "code",
   "execution_count": 18,
   "id": "ba76c705",
   "metadata": {},
   "outputs": [
    {
     "data": {
      "text/plain": [
       "['java', 1, 'python', 2, 3, 4, 5, 6]"
      ]
     },
     "execution_count": 18,
     "metadata": {},
     "output_type": "execute_result"
    }
   ],
   "source": [
    "liste"
   ]
  },
  {
   "cell_type": "code",
   "execution_count": 19,
   "id": "43fa76a2",
   "metadata": {},
   "outputs": [],
   "source": [
    "liste.insert(0,\"java\")\n",
    "#listenin 0. elemani javaa olur birşey silnmez"
   ]
  },
  {
   "cell_type": "code",
   "execution_count": 20,
   "id": "6993441d",
   "metadata": {},
   "outputs": [
    {
     "data": {
      "text/plain": [
       "['java', 'java', 1, 'python', 2, 3, 4, 5, 6]"
      ]
     },
     "execution_count": 20,
     "metadata": {},
     "output_type": "execute_result"
    }
   ],
   "source": [
    "liste"
   ]
  },
  {
   "cell_type": "code",
   "execution_count": 21,
   "id": "d904c18e",
   "metadata": {},
   "outputs": [],
   "source": [
    "liste.remove(\"python\") \n",
    "#listede \"python\" kısmını siler"
   ]
  },
  {
   "cell_type": "code",
   "execution_count": 22,
   "id": "f047312e",
   "metadata": {},
   "outputs": [
    {
     "data": {
      "text/plain": [
       "['java', 'java', 1, 2, 3, 4, 5, 6]"
      ]
     },
     "execution_count": 22,
     "metadata": {},
     "output_type": "execute_result"
    }
   ],
   "source": [
    "liste"
   ]
  },
  {
   "cell_type": "code",
   "execution_count": 25,
   "id": "e5d25b79",
   "metadata": {},
   "outputs": [],
   "source": [
    "liste = [1,2,3,5,4,3,7,3]"
   ]
  },
  {
   "cell_type": "code",
   "execution_count": 26,
   "id": "ec51b465",
   "metadata": {},
   "outputs": [
    {
     "data": {
      "text/plain": [
       "2"
      ]
     },
     "execution_count": 26,
     "metadata": {},
     "output_type": "execute_result"
    }
   ],
   "source": [
    "liste.index(3)# 3 hangi indekste"
   ]
  },
  {
   "cell_type": "code",
   "execution_count": 27,
   "id": "ce1f3804",
   "metadata": {},
   "outputs": [
    {
     "data": {
      "text/plain": [
       "7"
      ]
     },
     "execution_count": 27,
     "metadata": {},
     "output_type": "execute_result"
    }
   ],
   "source": [
    "liste.index(3,6)# 3 6. indexten sonra hangi indekste"
   ]
  },
  {
   "cell_type": "code",
   "execution_count": null,
   "id": "5c3ac269",
   "metadata": {},
   "outputs": [],
   "source": []
  }
 ],
 "metadata": {
  "kernelspec": {
   "display_name": "Python 3 (ipykernel)",
   "language": "python",
   "name": "python3"
  },
  "language_info": {
   "codemirror_mode": {
    "name": "ipython",
    "version": 3
   },
   "file_extension": ".py",
   "mimetype": "text/x-python",
   "name": "python",
   "nbconvert_exporter": "python",
   "pygments_lexer": "ipython3",
   "version": "3.10.9"
  }
 },
 "nbformat": 4,
 "nbformat_minor": 5
}
