{
 "cells": [
  {
   "cell_type": "code",
   "execution_count": 1,
   "id": "6333b4b8",
   "metadata": {},
   "outputs": [],
   "source": [
    "def selamla(isim):\n",
    "    print(\"Selam\",isim)"
   ]
  },
  {
   "cell_type": "code",
   "execution_count": 3,
   "id": "06fa811e",
   "metadata": {},
   "outputs": [
    {
     "name": "stdout",
     "output_type": "stream",
     "text": [
      "Selam Aysegul\n"
     ]
    }
   ],
   "source": [
    "selamla(\"Aysegul\")"
   ]
  },
  {
   "cell_type": "code",
   "execution_count": 4,
   "id": "4cbfbac8",
   "metadata": {},
   "outputs": [],
   "source": [
    "def selamla(isim = \"isimsiz\"):#fonksiyona paremetre yollanmaz ise \n",
    "    #hata cıkmasın diye onden parametre hazırda bekletiyoruz\n",
    "    print(\"selamla\",isim)"
   ]
  },
  {
   "cell_type": "code",
   "execution_count": 5,
   "id": "4960ce8c",
   "metadata": {},
   "outputs": [
    {
     "name": "stdout",
     "output_type": "stream",
     "text": [
      "selamla isimsiz\n"
     ]
    }
   ],
   "source": [
    "selamla()"
   ]
  },
  {
   "cell_type": "code",
   "execution_count": 6,
   "id": "db8686d2",
   "metadata": {},
   "outputs": [
    {
     "name": "stdout",
     "output_type": "stream",
     "text": [
      "selamla Aysegul\n"
     ]
    }
   ],
   "source": [
    "selamla(\"Aysegul\")"
   ]
  },
  {
   "cell_type": "code",
   "execution_count": null,
   "id": "c682ed7a",
   "metadata": {},
   "outputs": [],
   "source": []
  }
 ],
 "metadata": {
  "kernelspec": {
   "display_name": "Python 3 (ipykernel)",
   "language": "python",
   "name": "python3"
  },
  "language_info": {
   "codemirror_mode": {
    "name": "ipython",
    "version": 3
   },
   "file_extension": ".py",
   "mimetype": "text/x-python",
   "name": "python",
   "nbconvert_exporter": "python",
   "pygments_lexer": "ipython3",
   "version": "3.10.9"
  }
 },
 "nbformat": 4,
 "nbformat_minor": 5
}
