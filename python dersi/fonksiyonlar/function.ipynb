{
 "cells": [
  {
   "cell_type": "code",
   "execution_count": 1,
   "id": "c84ffbc9",
   "metadata": {},
   "outputs": [],
   "source": [
    "#fonksiyonlar"
   ]
  },
  {
   "cell_type": "code",
   "execution_count": 2,
   "id": "1c183c69",
   "metadata": {},
   "outputs": [
    {
     "ename": "NameError",
     "evalue": "name 'selamla' is not defined",
     "output_type": "error",
     "traceback": [
      "\u001b[0;31m---------------------------------------------------------------------------\u001b[0m",
      "\u001b[0;31mNameError\u001b[0m                                 Traceback (most recent call last)",
      "Cell \u001b[0;32mIn[2], line 1\u001b[0m\n\u001b[0;32m----> 1\u001b[0m \u001b[38;5;28mtype\u001b[39m(\u001b[43mselamla\u001b[49m)\n",
      "\u001b[0;31mNameError\u001b[0m: name 'selamla' is not defined"
     ]
    }
   ],
   "source": [
    "type(selamla)"
   ]
  },
  {
   "cell_type": "code",
   "execution_count": 3,
   "id": "f6202dd2",
   "metadata": {},
   "outputs": [],
   "source": [
    "def selamla():\n",
    "    print(\"Merhaba..\")\n",
    "    print(\"Nasilsiniz?\")"
   ]
  },
  {
   "cell_type": "code",
   "execution_count": 4,
   "id": "0d018650",
   "metadata": {},
   "outputs": [
    {
     "data": {
      "text/plain": [
       "function"
      ]
     },
     "execution_count": 4,
     "metadata": {},
     "output_type": "execute_result"
    }
   ],
   "source": [
    "type(selamla)"
   ]
  },
  {
   "cell_type": "code",
   "execution_count": 5,
   "id": "1aac105d",
   "metadata": {},
   "outputs": [
    {
     "name": "stdout",
     "output_type": "stream",
     "text": [
      "Merhaba..\n",
      "Nasilsiniz?\n"
     ]
    }
   ],
   "source": [
    "selamla()"
   ]
  },
  {
   "cell_type": "code",
   "execution_count": 7,
   "id": "3e313e43",
   "metadata": {},
   "outputs": [
    {
     "name": "stdout",
     "output_type": "stream",
     "text": [
      "Merhaba..\n",
      "Nasilsiniz?\n",
      "Merhaba..\n",
      "Nasilsiniz?\n",
      "Merhaba..\n",
      "Nasilsiniz?\n"
     ]
    }
   ],
   "source": [
    "selamla()\n",
    "selamla()\n",
    "selamla()"
   ]
  },
  {
   "cell_type": "code",
   "execution_count": 1,
   "id": "cdd5f385",
   "metadata": {},
   "outputs": [],
   "source": [
    "def selamla(isim,sayi):#isim burada paremetredir\n",
    "    print(\"{} {} Merhaba..\".format(isim,sayi))\n",
    "    print(\"{} Nasilsiniz?\".format(isim))"
   ]
  },
  {
   "cell_type": "code",
   "execution_count": 6,
   "id": "9ac7ccfd",
   "metadata": {},
   "outputs": [
    {
     "name": "stdout",
     "output_type": "stream",
     "text": [
      "ayse:afed\n",
      "afed 2 Merhaba..\n",
      "afed Nasilsiniz?\n"
     ]
    }
   ],
   "source": [
    "tahmin = input(\"{}:\".format(\"ayse\"))\n",
    "selamla(tahmin,2)#Aysegul burada arguman"
   ]
  },
  {
   "cell_type": "code",
   "execution_count": 12,
   "id": "c77ff595",
   "metadata": {},
   "outputs": [],
   "source": [
    "def toplama(a,b,c):\n",
    "    print(\"Toplamlari\",a+b+c)"
   ]
  },
  {
   "cell_type": "code",
   "execution_count": 13,
   "id": "ada04365",
   "metadata": {},
   "outputs": [
    {
     "name": "stdout",
     "output_type": "stream",
     "text": [
      "Toplamlari 10\n"
     ]
    }
   ],
   "source": [
    "toplama(3,2,5)"
   ]
  },
  {
   "cell_type": "code",
   "execution_count": 22,
   "id": "59cd7e6e",
   "metadata": {},
   "outputs": [],
   "source": [
    "def faktoriyel(sayi,sayi2,fact):\n",
    "    if(sayi == 0 or sayi == 1):\n",
    "        print(\"{} sayisinin faktoriyeli {}'dir.\".format(sayi2,fact))\n",
    "    else:\n",
    "        fact *= sayi\n",
    "        sayi -=1\n",
    "        faktoriyel(sayi,sayi2,fact)\n",
    "    "
   ]
  },
  {
   "cell_type": "code",
   "execution_count": 23,
   "id": "08456dff",
   "metadata": {},
   "outputs": [
    {
     "name": "stdout",
     "output_type": "stream",
     "text": [
      "5 sayisinin faktoriyeli 120'dir.\n"
     ]
    }
   ],
   "source": [
    "faktoriyel(5,5,1)"
   ]
  },
  {
   "cell_type": "code",
   "execution_count": null,
   "id": "f6f28291",
   "metadata": {},
   "outputs": [],
   "source": []
  }
 ],
 "metadata": {
  "kernelspec": {
   "display_name": "Python 3 (ipykernel)",
   "language": "python",
   "name": "python3"
  },
  "language_info": {
   "codemirror_mode": {
    "name": "ipython",
    "version": 3
   },
   "file_extension": ".py",
   "mimetype": "text/x-python",
   "name": "python",
   "nbconvert_exporter": "python",
   "pygments_lexer": "ipython3",
   "version": "3.10.9"
  }
 },
 "nbformat": 4,
 "nbformat_minor": 5
}
