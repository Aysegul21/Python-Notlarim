{
 "cells": [
  {
   "cell_type": "code",
   "execution_count": 1,
   "id": "3e274dc6",
   "metadata": {},
   "outputs": [],
   "source": [
    "#return"
   ]
  },
  {
   "cell_type": "code",
   "execution_count": 2,
   "id": "71569ca6",
   "metadata": {},
   "outputs": [],
   "source": [
    "def toplama(a,b):\n",
    "    print(\"1. fonksiyon calisti.\")\n",
    "    return a+b"
   ]
  },
  {
   "cell_type": "code",
   "execution_count": 4,
   "id": "67d3a203",
   "metadata": {},
   "outputs": [],
   "source": [
    "def ikicikar(a):\n",
    "    print(\"2. fonksiyon calisti.\")\n",
    "    return a-2"
   ]
  },
  {
   "cell_type": "code",
   "execution_count": 5,
   "id": "baa34778",
   "metadata": {},
   "outputs": [],
   "source": [
    "def uc_carp(a):\n",
    "    print(\"3. fonksiyon calisti.\")\n",
    "    return a*3"
   ]
  },
  {
   "cell_type": "code",
   "execution_count": 6,
   "id": "b6de1bf3",
   "metadata": {},
   "outputs": [],
   "source": [
    "def bese_bol(a):\n",
    "    print(\"3. fonksiyon calisti.\")\n",
    "    return a/5"
   ]
  },
  {
   "cell_type": "code",
   "execution_count": 7,
   "id": "8da8abb2",
   "metadata": {},
   "outputs": [
    {
     "name": "stdout",
     "output_type": "stream",
     "text": [
      "1. fonksiyon calisti.\n",
      "2. fonksiyon calisti.\n",
      "3. fonksiyon calisti.\n",
      "3. fonksiyon calisti.\n",
      "6.0\n"
     ]
    }
   ],
   "source": [
    "print(bese_bol(uc_carp(ikicikar(toplama(8,4)))))"
   ]
  },
  {
   "cell_type": "code",
   "execution_count": null,
   "id": "36ab9602",
   "metadata": {},
   "outputs": [],
   "source": []
  }
 ],
 "metadata": {
  "kernelspec": {
   "display_name": "Python 3 (ipykernel)",
   "language": "python",
   "name": "python3"
  },
  "language_info": {
   "codemirror_mode": {
    "name": "ipython",
    "version": 3
   },
   "file_extension": ".py",
   "mimetype": "text/x-python",
   "name": "python",
   "nbconvert_exporter": "python",
   "pygments_lexer": "ipython3",
   "version": "3.10.9"
  }
 },
 "nbformat": 4,
 "nbformat_minor": 5
}
