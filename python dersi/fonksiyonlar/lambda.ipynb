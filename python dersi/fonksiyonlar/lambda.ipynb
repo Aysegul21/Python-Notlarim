{
 "cells": [
  {
   "cell_type": "code",
   "execution_count": 1,
   "id": "41c97986",
   "metadata": {},
   "outputs": [],
   "source": [
    "#lambda ifadeleri"
   ]
  },
  {
   "cell_type": "code",
   "execution_count": 5,
   "id": "240411fa",
   "metadata": {},
   "outputs": [
    {
     "data": {
      "text/plain": [
       "[2, 4, 6, 8, 10]"
      ]
     },
     "execution_count": 5,
     "metadata": {},
     "output_type": "execute_result"
    }
   ],
   "source": [
    "liste1 = [1,2,3,4,5]\n",
    "liste2 = [i*2 for i in liste1]\n",
    "liste2"
   ]
  },
  {
   "cell_type": "code",
   "execution_count": 7,
   "id": "6337a099",
   "metadata": {},
   "outputs": [
    {
     "name": "stdout",
     "output_type": "stream",
     "text": [
      "24\n"
     ]
    }
   ],
   "source": [
    "def ikiylecarp(x):\n",
    "    return x*2\n",
    "print(ikiylecarp(12))"
   ]
  },
  {
   "cell_type": "code",
   "execution_count": 9,
   "id": "890ce188",
   "metadata": {},
   "outputs": [],
   "source": [
    "ikiylecarpma = lambda x : x*2"
   ]
  },
  {
   "cell_type": "code",
   "execution_count": 11,
   "id": "fc8bf9de",
   "metadata": {},
   "outputs": [
    {
     "name": "stdout",
     "output_type": "stream",
     "text": [
      "144\n"
     ]
    }
   ],
   "source": [
    "print(ikiylecarpma(72))"
   ]
  },
  {
   "cell_type": "code",
   "execution_count": 12,
   "id": "d8941c4a",
   "metadata": {},
   "outputs": [
    {
     "name": "stdout",
     "output_type": "stream",
     "text": [
      "42\n"
     ]
    }
   ],
   "source": [
    "def toplama(x,y,z):\n",
    "    return x+y+z\n",
    "print(toplama(7,14,21))"
   ]
  },
  {
   "cell_type": "code",
   "execution_count": 15,
   "id": "0122f4ea",
   "metadata": {},
   "outputs": [],
   "source": [
    "toplama = lambda x,y,z : x + y + z"
   ]
  },
  {
   "cell_type": "code",
   "execution_count": 17,
   "id": "c94f24b4",
   "metadata": {},
   "outputs": [
    {
     "name": "stdout",
     "output_type": "stream",
     "text": [
      "6\n"
     ]
    }
   ],
   "source": [
    "print(toplama(1,2,3))"
   ]
  },
  {
   "cell_type": "code",
   "execution_count": 18,
   "id": "ed2e3ec3",
   "metadata": {},
   "outputs": [],
   "source": [
    "def  terscevir(s):\n",
    "    return s[::-1]"
   ]
  },
  {
   "cell_type": "code",
   "execution_count": 19,
   "id": "ed9390a0",
   "metadata": {},
   "outputs": [
    {
     "data": {
      "text/plain": [
       "'seket lugesya'"
      ]
     },
     "execution_count": 19,
     "metadata": {},
     "output_type": "execute_result"
    }
   ],
   "source": [
    "terscevir(\"aysegul tekes\")"
   ]
  },
  {
   "cell_type": "code",
   "execution_count": 20,
   "id": "89b77a0d",
   "metadata": {},
   "outputs": [],
   "source": [
    "terscevirme = lambda s : s[::-1]"
   ]
  },
  {
   "cell_type": "code",
   "execution_count": 22,
   "id": "7e13c53e",
   "metadata": {},
   "outputs": [
    {
     "name": "stdout",
     "output_type": "stream",
     "text": [
      "lugesya\n"
     ]
    }
   ],
   "source": [
    "print(terscevirme(\"aysegul\"))"
   ]
  },
  {
   "cell_type": "code",
   "execution_count": 24,
   "id": "95dfe9fd",
   "metadata": {},
   "outputs": [
    {
     "data": {
      "text/plain": [
       "True"
      ]
     },
     "execution_count": 24,
     "metadata": {},
     "output_type": "execute_result"
    }
   ],
   "source": [
    "def cifttek(sayi):\n",
    "    return sayi % 2 == 0\n",
    "cifttek(212)"
   ]
  },
  {
   "cell_type": "code",
   "execution_count": 25,
   "id": "a08ba258",
   "metadata": {},
   "outputs": [],
   "source": [
    "cifttek = lambda sayi : sayi % 2 == 0"
   ]
  },
  {
   "cell_type": "code",
   "execution_count": 29,
   "id": "df569cc8",
   "metadata": {},
   "outputs": [
    {
     "data": {
      "text/plain": [
       "False"
      ]
     },
     "execution_count": 29,
     "metadata": {},
     "output_type": "execute_result"
    }
   ],
   "source": [
    "cifttek(11)"
   ]
  },
  {
   "cell_type": "code",
   "execution_count": null,
   "id": "e7d7de00",
   "metadata": {},
   "outputs": [],
   "source": []
  }
 ],
 "metadata": {
  "kernelspec": {
   "display_name": "Python 3 (ipykernel)",
   "language": "python",
   "name": "python3"
  },
  "language_info": {
   "codemirror_mode": {
    "name": "ipython",
    "version": 3
   },
   "file_extension": ".py",
   "mimetype": "text/x-python",
   "name": "python",
   "nbconvert_exporter": "python",
   "pygments_lexer": "ipython3",
   "version": "3.10.9"
  }
 },
 "nbformat": 4,
 "nbformat_minor": 5
}
