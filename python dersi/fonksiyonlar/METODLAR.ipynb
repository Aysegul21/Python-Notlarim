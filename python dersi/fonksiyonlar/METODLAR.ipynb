{
 "cells": [
  {
   "cell_type": "code",
   "execution_count": 1,
   "id": "7f764f0e",
   "metadata": {},
   "outputs": [],
   "source": [
    "#metodlar"
   ]
  },
  {
   "cell_type": "code",
   "execution_count": 2,
   "id": "1e7e872a",
   "metadata": {},
   "outputs": [],
   "source": [
    "a = [1,2,3,4,5]"
   ]
  },
  {
   "cell_type": "code",
   "execution_count": 3,
   "id": "99514048",
   "metadata": {},
   "outputs": [
    {
     "data": {
      "text/plain": [
       "list"
      ]
     },
     "execution_count": 3,
     "metadata": {},
     "output_type": "execute_result"
    }
   ],
   "source": [
    "type(a)"
   ]
  },
  {
   "cell_type": "code",
   "execution_count": 4,
   "id": "aa780830",
   "metadata": {},
   "outputs": [],
   "source": [
    "a.insert(1,\"aysegul\")"
   ]
  },
  {
   "cell_type": "code",
   "execution_count": 5,
   "id": "6ad3f00d",
   "metadata": {},
   "outputs": [
    {
     "data": {
      "text/plain": [
       "[1, 'aysegul', 2, 3, 4, 5]"
      ]
     },
     "execution_count": 5,
     "metadata": {},
     "output_type": "execute_result"
    }
   ],
   "source": [
    "a"
   ]
  },
  {
   "cell_type": "code",
   "execution_count": 8,
   "id": "dc2e322c",
   "metadata": {},
   "outputs": [],
   "source": [
    "a.insert(0,\"tekes\")"
   ]
  },
  {
   "cell_type": "code",
   "execution_count": 9,
   "id": "fa61b426",
   "metadata": {},
   "outputs": [
    {
     "data": {
      "text/plain": [
       "['tekes', 1, 'aysegul', 'tekes', 2, 3, 4, 5]"
      ]
     },
     "execution_count": 9,
     "metadata": {},
     "output_type": "execute_result"
    }
   ],
   "source": [
    "a"
   ]
  },
  {
   "cell_type": "code",
   "execution_count": 10,
   "id": "43fcb09a",
   "metadata": {},
   "outputs": [],
   "source": [
    "a.append(\"aysegul\")"
   ]
  },
  {
   "cell_type": "code",
   "execution_count": 11,
   "id": "6c3a33e8",
   "metadata": {},
   "outputs": [
    {
     "data": {
      "text/plain": [
       "['tekes', 1, 'aysegul', 'tekes', 2, 3, 4, 5, 'aysegul']"
      ]
     },
     "execution_count": 11,
     "metadata": {},
     "output_type": "execute_result"
    }
   ],
   "source": [
    "a"
   ]
  },
  {
   "cell_type": "code",
   "execution_count": 12,
   "id": "f9b265ef",
   "metadata": {},
   "outputs": [
    {
     "data": {
      "text/plain": [
       "'aysegul'"
      ]
     },
     "execution_count": 12,
     "metadata": {},
     "output_type": "execute_result"
    }
   ],
   "source": [
    "a.pop()"
   ]
  },
  {
   "cell_type": "code",
   "execution_count": 13,
   "id": "3335d0d6",
   "metadata": {},
   "outputs": [
    {
     "data": {
      "text/plain": [
       "['tekes', 1, 'aysegul', 'tekes', 2, 3, 4, 5]"
      ]
     },
     "execution_count": 13,
     "metadata": {},
     "output_type": "execute_result"
    }
   ],
   "source": [
    "a"
   ]
  },
  {
   "cell_type": "code",
   "execution_count": 14,
   "id": "ebf69cf4",
   "metadata": {},
   "outputs": [
    {
     "name": "stdout",
     "output_type": "stream",
     "text": [
      "Help on built-in function append:\n",
      "\n",
      "append(object, /) method of builtins.list instance\n",
      "    Append object to the end of the list.\n",
      "\n"
     ]
    }
   ],
   "source": [
    "help(a.append)"
   ]
  },
  {
   "cell_type": "code",
   "execution_count": null,
   "id": "12e0723f",
   "metadata": {},
   "outputs": [],
   "source": []
  }
 ],
 "metadata": {
  "kernelspec": {
   "display_name": "Python 3 (ipykernel)",
   "language": "python",
   "name": "python3"
  },
  "language_info": {
   "codemirror_mode": {
    "name": "ipython",
    "version": 3
   },
   "file_extension": ".py",
   "mimetype": "text/x-python",
   "name": "python",
   "nbconvert_exporter": "python",
   "pygments_lexer": "ipython3",
   "version": "3.10.9"
  }
 },
 "nbformat": 4,
 "nbformat_minor": 5
}
