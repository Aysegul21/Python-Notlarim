{
 "cells": [
  {
   "cell_type": "code",
   "execution_count": 2,
   "id": "1aed0ce6",
   "metadata": {},
   "outputs": [],
   "source": [
    "#sozluk"
   ]
  },
  {
   "cell_type": "code",
   "execution_count": 3,
   "id": "05adfcb7",
   "metadata": {},
   "outputs": [],
   "source": [
    "sozluk={\"bir\":1,\"iki\":2,\"uc\":3,\"dort\":4}"
   ]
  },
  {
   "cell_type": "code",
   "execution_count": 4,
   "id": "db602d3d",
   "metadata": {},
   "outputs": [
    {
     "data": {
      "text/plain": [
       "dict"
      ]
     },
     "execution_count": 4,
     "metadata": {},
     "output_type": "execute_result"
    }
   ],
   "source": [
    "type(sozluk)"
   ]
  },
  {
   "cell_type": "code",
   "execution_count": 5,
   "id": "78f3db54",
   "metadata": {},
   "outputs": [
    {
     "data": {
      "text/plain": [
       "1"
      ]
     },
     "execution_count": 5,
     "metadata": {},
     "output_type": "execute_result"
    }
   ],
   "source": [
    "sozluk[\"bir\"]"
   ]
  },
  {
   "cell_type": "code",
   "execution_count": 9,
   "id": "9ba85627",
   "metadata": {},
   "outputs": [],
   "source": [
    "sozluk[\"bes\"]=5"
   ]
  },
  {
   "cell_type": "code",
   "execution_count": 10,
   "id": "9cdd1a84",
   "metadata": {},
   "outputs": [
    {
     "data": {
      "text/plain": [
       "{'bir': 1, 'iki': 2, 'uc': 3, 'dort': 4, 'bes': 5}"
      ]
     },
     "execution_count": 10,
     "metadata": {},
     "output_type": "execute_result"
    }
   ],
   "source": [
    "sozluk"
   ]
  },
  {
   "cell_type": "code",
   "execution_count": 11,
   "id": "cb9a5f62",
   "metadata": {},
   "outputs": [],
   "source": [
    "sozluk={\"bir\":[1,2,1],\"iki\":[[1,2],[3,4],[5,6]],\"uc\":[[13,31],[12,21]]}"
   ]
  },
  {
   "cell_type": "code",
   "execution_count": 12,
   "id": "feff267f",
   "metadata": {},
   "outputs": [
    {
     "data": {
      "text/plain": [
       "[1, 2, 1]"
      ]
     },
     "execution_count": 12,
     "metadata": {},
     "output_type": "execute_result"
    }
   ],
   "source": [
    "sozluk[\"bir\"]"
   ]
  },
  {
   "cell_type": "code",
   "execution_count": 14,
   "id": "3952637c",
   "metadata": {},
   "outputs": [
    {
     "data": {
      "text/plain": [
       "[[1, 2], [3, 4], [5, 6]]"
      ]
     },
     "execution_count": 14,
     "metadata": {},
     "output_type": "execute_result"
    }
   ],
   "source": [
    "sozluk[\"iki\"]"
   ]
  },
  {
   "cell_type": "code",
   "execution_count": 16,
   "id": "fa6e0a56",
   "metadata": {},
   "outputs": [
    {
     "data": {
      "text/plain": [
       "[3, 4]"
      ]
     },
     "execution_count": 16,
     "metadata": {},
     "output_type": "execute_result"
    }
   ],
   "source": [
    "sozluk[\"iki\"][1]"
   ]
  },
  {
   "cell_type": "code",
   "execution_count": 17,
   "id": "392f3c58",
   "metadata": {},
   "outputs": [
    {
     "data": {
      "text/plain": [
       "3"
      ]
     },
     "execution_count": 17,
     "metadata": {},
     "output_type": "execute_result"
    }
   ],
   "source": [
    "sozluk[\"iki\"][1][0]"
   ]
  },
  {
   "cell_type": "code",
   "execution_count": 19,
   "id": "d60b360b",
   "metadata": {},
   "outputs": [],
   "source": [
    "sozluk[\"bir\"][0]=23"
   ]
  },
  {
   "cell_type": "code",
   "execution_count": 20,
   "id": "2cabcf84",
   "metadata": {},
   "outputs": [
    {
     "data": {
      "text/plain": [
       "[23, 2, 1]"
      ]
     },
     "execution_count": 20,
     "metadata": {},
     "output_type": "execute_result"
    }
   ],
   "source": [
    "sozluk[\"bir\"]"
   ]
  },
  {
   "cell_type": "code",
   "execution_count": 21,
   "id": "a92fc645",
   "metadata": {},
   "outputs": [],
   "source": [
    "#ic ice sozlukler"
   ]
  },
  {
   "cell_type": "code",
   "execution_count": 23,
   "id": "eef6b006",
   "metadata": {},
   "outputs": [],
   "source": [
    "a={\"dil\":{\"bir\":\"turkce\",\"iki\":\"ingilizce\"},\"sayilar\":{\"bir\":1,\"iki\":2}}"
   ]
  },
  {
   "cell_type": "code",
   "execution_count": 24,
   "id": "5e6331d7",
   "metadata": {},
   "outputs": [
    {
     "data": {
      "text/plain": [
       "{'bir': 'turkce', 'iki': 'ingilizce'}"
      ]
     },
     "execution_count": 24,
     "metadata": {},
     "output_type": "execute_result"
    }
   ],
   "source": [
    "a[\"dil\"]"
   ]
  },
  {
   "cell_type": "code",
   "execution_count": 26,
   "id": "ee65c884",
   "metadata": {},
   "outputs": [
    {
     "data": {
      "text/plain": [
       "'ingilizce'"
      ]
     },
     "execution_count": 26,
     "metadata": {},
     "output_type": "execute_result"
    }
   ],
   "source": [
    "a[\"dil\"][\"iki\"]"
   ]
  },
  {
   "cell_type": "code",
   "execution_count": 27,
   "id": "037a04f3",
   "metadata": {},
   "outputs": [],
   "source": [
    "sozluk={\"bes\":11,\"bir\":1,\"dort\":4,\"iki\":2,\"uc\":3}"
   ]
  },
  {
   "cell_type": "code",
   "execution_count": 29,
   "id": "feccdb5d",
   "metadata": {},
   "outputs": [
    {
     "data": {
      "text/plain": [
       "dict_keys(['bes', 'bir', 'dort', 'iki', 'uc'])"
      ]
     },
     "execution_count": 29,
     "metadata": {},
     "output_type": "execute_result"
    }
   ],
   "source": [
    "sozluk.keys()"
   ]
  },
  {
   "cell_type": "code",
   "execution_count": 33,
   "id": "27019a87",
   "metadata": {},
   "outputs": [
    {
     "data": {
      "text/plain": [
       "dict_values([11, 1, 4, 2, 3])"
      ]
     },
     "execution_count": 33,
     "metadata": {},
     "output_type": "execute_result"
    }
   ],
   "source": [
    "sozluk.values()"
   ]
  },
  {
   "cell_type": "code",
   "execution_count": 34,
   "id": "0e6094ba",
   "metadata": {},
   "outputs": [
    {
     "data": {
      "text/plain": [
       "dict_items([('bes', 11), ('bir', 1), ('dort', 4), ('iki', 2), ('uc', 3)])"
      ]
     },
     "execution_count": 34,
     "metadata": {},
     "output_type": "execute_result"
    }
   ],
   "source": [
    "sozluk.items()"
   ]
  },
  {
   "cell_type": "code",
   "execution_count": null,
   "id": "cc0538f1",
   "metadata": {},
   "outputs": [],
   "source": []
  }
 ],
 "metadata": {
  "kernelspec": {
   "display_name": "Python 3 (ipykernel)",
   "language": "python",
   "name": "python3"
  },
  "language_info": {
   "codemirror_mode": {
    "name": "ipython",
    "version": 3
   },
   "file_extension": ".py",
   "mimetype": "text/x-python",
   "name": "python",
   "nbconvert_exporter": "python",
   "pygments_lexer": "ipython3",
   "version": "3.10.9"
  }
 },
 "nbformat": 4,
 "nbformat_minor": 5
}
