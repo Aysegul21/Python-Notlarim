{
 "cells": [
  {
   "cell_type": "code",
   "execution_count": 1,
   "id": "4e1bd598",
   "metadata": {},
   "outputs": [],
   "source": [
    "#printf fonksiyonu"
   ]
  },
  {
   "cell_type": "code",
   "execution_count": 2,
   "id": "200922d3",
   "metadata": {},
   "outputs": [
    {
     "name": "stdout",
     "output_type": "stream",
     "text": [
      "35\n"
     ]
    }
   ],
   "source": [
    "print(35)"
   ]
  },
  {
   "cell_type": "code",
   "execution_count": 3,
   "id": "edd24e64",
   "metadata": {},
   "outputs": [
    {
     "name": "stdout",
     "output_type": "stream",
     "text": [
      "3.14\n"
     ]
    }
   ],
   "source": [
    "print(3.14)"
   ]
  },
  {
   "cell_type": "code",
   "execution_count": 4,
   "id": "9bfc9886",
   "metadata": {},
   "outputs": [
    {
     "name": "stdout",
     "output_type": "stream",
     "text": [
      "30\n"
     ]
    }
   ],
   "source": [
    "a=10\n",
    "b=20\n",
    "print(a+b)"
   ]
  },
  {
   "cell_type": "code",
   "execution_count": 6,
   "id": "ead16d0b",
   "metadata": {},
   "outputs": [
    {
     "name": "stdout",
     "output_type": "stream",
     "text": [
      "python programlama dili\n"
     ]
    }
   ],
   "source": [
    "print(\"python programlama dili\")"
   ]
  },
  {
   "cell_type": "code",
   "execution_count": 7,
   "id": "58a66264",
   "metadata": {},
   "outputs": [
    {
     "name": "stdout",
     "output_type": "stream",
     "text": [
      "python programlama dili\n"
     ]
    }
   ],
   "source": [
    "print('python programlama dili')"
   ]
  },
  {
   "cell_type": "code",
   "execution_count": 8,
   "id": "31f31955",
   "metadata": {},
   "outputs": [
    {
     "name": "stdout",
     "output_type": "stream",
     "text": [
      "python 10 11 12 13\n"
     ]
    }
   ],
   "source": [
    "print(\"python\",10,11,12,13)"
   ]
  },
  {
   "cell_type": "code",
   "execution_count": 9,
   "id": "96bebf14",
   "metadata": {},
   "outputs": [
    {
     "name": "stdout",
     "output_type": "stream",
     "text": [
      "python programlama dili\n"
     ]
    }
   ],
   "source": [
    "print(\"python\",\"programlama\",\"dili\")"
   ]
  },
  {
   "cell_type": "code",
   "execution_count": 10,
   "id": "d24a2377",
   "metadata": {},
   "outputs": [
    {
     "name": "stdout",
     "output_type": "stream",
     "text": [
      "python\n",
      "programlama\n",
      "dili\n"
     ]
    }
   ],
   "source": [
    "print(\"python\\nprogramlama\\ndili\")"
   ]
  },
  {
   "cell_type": "code",
   "execution_count": 17,
   "id": "a94742c7",
   "metadata": {},
   "outputs": [
    {
     "name": "stdout",
     "output_type": "stream",
     "text": [
      "python\tprogramlama\tdili \n",
      "python\ta\n"
     ]
    }
   ],
   "source": [
    "print(\"python\\tprogramlama\\tdili\",\"\\npython\\ta\")"
   ]
  },
  {
   "cell_type": "code",
   "execution_count": 18,
   "id": "3c9c6c46",
   "metadata": {},
   "outputs": [],
   "source": [
    "#type fonksiyonu"
   ]
  },
  {
   "cell_type": "code",
   "execution_count": 19,
   "id": "9f882e1e",
   "metadata": {},
   "outputs": [
    {
     "data": {
      "text/plain": [
       "int"
      ]
     },
     "execution_count": 19,
     "metadata": {},
     "output_type": "execute_result"
    }
   ],
   "source": [
    "a=65\n",
    "type(a)"
   ]
  },
  {
   "cell_type": "code",
   "execution_count": 21,
   "id": "389d524e",
   "metadata": {},
   "outputs": [
    {
     "data": {
      "text/plain": [
       "float"
      ]
     },
     "execution_count": 21,
     "metadata": {},
     "output_type": "execute_result"
    }
   ],
   "source": [
    "a=89.8\n",
    "type(a)"
   ]
  },
  {
   "cell_type": "code",
   "execution_count": 22,
   "id": "bd920fce",
   "metadata": {},
   "outputs": [
    {
     "data": {
      "text/plain": [
       "str"
      ]
     },
     "execution_count": 22,
     "metadata": {},
     "output_type": "execute_result"
    }
   ],
   "source": [
    "a=\"selam\"\n",
    "type(a)"
   ]
  },
  {
   "cell_type": "code",
   "execution_count": 23,
   "id": "428f21bf",
   "metadata": {},
   "outputs": [],
   "source": [
    "# printf fonksiyonunun özellikleri"
   ]
  },
  {
   "cell_type": "code",
   "execution_count": 25,
   "id": "60970102",
   "metadata": {},
   "outputs": [
    {
     "name": "stdout",
     "output_type": "stream",
     "text": [
      "1 3 5 7 9\n"
     ]
    }
   ],
   "source": [
    "print(1,3,5,7,9)"
   ]
  },
  {
   "cell_type": "code",
   "execution_count": 26,
   "id": "9efb6f5e",
   "metadata": {},
   "outputs": [
    {
     "name": "stdout",
     "output_type": "stream",
     "text": [
      "1.3.5.7.9\n"
     ]
    }
   ],
   "source": [
    "print(1,3,5,7,9,sep = \".\")"
   ]
  },
  {
   "cell_type": "code",
   "execution_count": 33,
   "id": "6c1a5040",
   "metadata": {},
   "outputs": [
    {
     "ename": "SyntaxError",
     "evalue": "unterminated string literal (detected at line 1) (1725450226.py, line 1)",
     "output_type": "error",
     "traceback": [
      "\u001b[0;36m  Cell \u001b[0;32mIn[33], line 1\u001b[0;36m\u001b[0m\n\u001b[0;31m    print(13,5,1379,sep =\"\\\")\u001b[0m\n\u001b[0m                         ^\u001b[0m\n\u001b[0;31mSyntaxError\u001b[0m\u001b[0;31m:\u001b[0m unterminated string literal (detected at line 1)\n"
     ]
    }
   ],
   "source": [
    "print(13,5,1379,sep =\"\\\")"
   ]
  },
  {
   "cell_type": "code",
   "execution_count": 34,
   "id": "87cd2b81",
   "metadata": {},
   "outputs": [
    {
     "name": "stdout",
     "output_type": "stream",
     "text": [
      "13/5/1379\n"
     ]
    }
   ],
   "source": [
    "print(13,5,1379,sep =\"/\")"
   ]
  },
  {
   "cell_type": "code",
   "execution_count": 36,
   "id": "7266b59f",
   "metadata": {},
   "outputs": [],
   "source": [
    "#yildizli parametreler"
   ]
  },
  {
   "cell_type": "code",
   "execution_count": 37,
   "id": "c60c39cf",
   "metadata": {},
   "outputs": [
    {
     "name": "stdout",
     "output_type": "stream",
     "text": [
      "p y t h o n\n"
     ]
    }
   ],
   "source": [
    "print(*\"python\")"
   ]
  },
  {
   "cell_type": "code",
   "execution_count": 38,
   "id": "ebfb9206",
   "metadata": {},
   "outputs": [
    {
     "name": "stdout",
     "output_type": "stream",
     "text": [
      "p\n",
      "y\n",
      "t\n",
      "h\n",
      "o\n",
      "n\n"
     ]
    }
   ],
   "source": [
    "print(*\"python\",sep = \"\\n\")"
   ]
  },
  {
   "cell_type": "code",
   "execution_count": 39,
   "id": "022d5dea",
   "metadata": {},
   "outputs": [],
   "source": [
    "#formatlama"
   ]
  },
  {
   "cell_type": "code",
   "execution_count": 40,
   "id": "aa2c20cf",
   "metadata": {},
   "outputs": [
    {
     "data": {
      "text/plain": [
       "'3.1423 5.324 7.324324'"
      ]
     },
     "execution_count": 40,
     "metadata": {},
     "output_type": "execute_result"
    }
   ],
   "source": [
    "\"{} {} {}\".format(3.1423,5.324,7.324324)"
   ]
  },
  {
   "cell_type": "code",
   "execution_count": 43,
   "id": "dadff157",
   "metadata": {},
   "outputs": [
    {
     "name": "stdout",
     "output_type": "stream",
     "text": [
      "3 + 4'nın toplamı 7'dir\n"
     ]
    }
   ],
   "source": [
    "a=3\n",
    "b=4\n",
    "print(\"{} + {}'nın toplamı {}'dir\".format(a,b,a+b))"
   ]
  },
  {
   "cell_type": "code",
   "execution_count": 44,
   "id": "66dd812e",
   "metadata": {},
   "outputs": [
    {
     "data": {
      "text/plain": [
       "'aysegul 34 33'"
      ]
     },
     "execution_count": 44,
     "metadata": {},
     "output_type": "execute_result"
    }
   ],
   "source": [
    "\"{1} {0} {2}\".format(34,\"aysegul\",\"33\")"
   ]
  },
  {
   "cell_type": "code",
   "execution_count": 45,
   "id": "86118343",
   "metadata": {},
   "outputs": [
    {
     "data": {
      "text/plain": [
       "'3.14 22.10'"
      ]
     },
     "execution_count": 45,
     "metadata": {},
     "output_type": "execute_result"
    }
   ],
   "source": [
    "\"{:.2f} {:.2f}\".format(3.1435,22.098)"
   ]
  },
  {
   "cell_type": "code",
   "execution_count": null,
   "id": "bf1cbd18",
   "metadata": {},
   "outputs": [],
   "source": []
  }
 ],
 "metadata": {
  "kernelspec": {
   "display_name": "Python 3 (ipykernel)",
   "language": "python",
   "name": "python3"
  },
  "language_info": {
   "codemirror_mode": {
    "name": "ipython",
    "version": 3
   },
   "file_extension": ".py",
   "mimetype": "text/x-python",
   "name": "python",
   "nbconvert_exporter": "python",
   "pygments_lexer": "ipython3",
   "version": "3.10.9"
  }
 },
 "nbformat": 4,
 "nbformat_minor": 5
}
