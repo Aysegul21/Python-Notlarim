{
 "cells": [
  {
   "cell_type": "code",
   "execution_count": 1,
   "id": "2bf04f23",
   "metadata": {},
   "outputs": [],
   "source": [
    "#demetler"
   ]
  },
  {
   "cell_type": "code",
   "execution_count": 2,
   "id": "3e34ea64",
   "metadata": {},
   "outputs": [],
   "source": [
    "demet=(1,2,3,4,5,6,7)"
   ]
  },
  {
   "cell_type": "code",
   "execution_count": 3,
   "id": "3a6db0e8",
   "metadata": {},
   "outputs": [
    {
     "data": {
      "text/plain": [
       "tuple"
      ]
     },
     "execution_count": 3,
     "metadata": {},
     "output_type": "execute_result"
    }
   ],
   "source": [
    "type(demet)"
   ]
  },
  {
   "cell_type": "code",
   "execution_count": 5,
   "id": "19dbdfca",
   "metadata": {},
   "outputs": [
    {
     "data": {
      "text/plain": [
       "5"
      ]
     },
     "execution_count": 5,
     "metadata": {},
     "output_type": "execute_result"
    }
   ],
   "source": [
    "demet[4]"
   ]
  },
  {
   "cell_type": "code",
   "execution_count": 6,
   "id": "2fddbec4",
   "metadata": {},
   "outputs": [
    {
     "data": {
      "text/plain": [
       "7"
      ]
     },
     "execution_count": 6,
     "metadata": {},
     "output_type": "execute_result"
    }
   ],
   "source": [
    "demet[-1]"
   ]
  },
  {
   "cell_type": "code",
   "execution_count": 7,
   "id": "989237e1",
   "metadata": {},
   "outputs": [],
   "source": [
    "#demet metodları"
   ]
  },
  {
   "cell_type": "code",
   "execution_count": 61,
   "id": "dd966290",
   "metadata": {},
   "outputs": [],
   "source": [
    "demet2 =(1,1,1,1,1,2,2,4,5)"
   ]
  },
  {
   "cell_type": "code",
   "execution_count": 62,
   "id": "55ff26d1",
   "metadata": {},
   "outputs": [
    {
     "data": {
      "text/plain": [
       "5"
      ]
     },
     "execution_count": 62,
     "metadata": {},
     "output_type": "execute_result"
    }
   ],
   "source": [
    "demet2.count(1)"
   ]
  },
  {
   "cell_type": "code",
   "execution_count": 63,
   "id": "bef30c11",
   "metadata": {},
   "outputs": [
    {
     "data": {
      "text/plain": [
       "2"
      ]
     },
     "execution_count": 63,
     "metadata": {},
     "output_type": "execute_result"
    }
   ],
   "source": [
    "demet2.count(2)"
   ]
  },
  {
   "cell_type": "code",
   "execution_count": 64,
   "id": "17adb9bb",
   "metadata": {},
   "outputs": [
    {
     "data": {
      "text/plain": [
       "0"
      ]
     },
     "execution_count": 64,
     "metadata": {},
     "output_type": "execute_result"
    }
   ],
   "source": [
    "demet2.count(19)"
   ]
  },
  {
   "cell_type": "code",
   "execution_count": 65,
   "id": "867238ef",
   "metadata": {},
   "outputs": [
    {
     "data": {
      "text/plain": [
       "7"
      ]
     },
     "execution_count": 65,
     "metadata": {},
     "output_type": "execute_result"
    }
   ],
   "source": [
    "demet2.index(4)"
   ]
  },
  {
   "cell_type": "code",
   "execution_count": 66,
   "id": "f524f876",
   "metadata": {},
   "outputs": [
    {
     "data": {
      "text/plain": [
       "8"
      ]
     },
     "execution_count": 66,
     "metadata": {},
     "output_type": "execute_result"
    }
   ],
   "source": [
    "demet2.index(5)"
   ]
  },
  {
   "cell_type": "code",
   "execution_count": 57,
   "id": "e6e7091d",
   "metadata": {},
   "outputs": [],
   "source": [
    "demet2=(\"ali\",\"veli\",\"deli\",\"ali\")"
   ]
  },
  {
   "cell_type": "code",
   "execution_count": 29,
   "id": "ea4dbea9",
   "metadata": {},
   "outputs": [
    {
     "data": {
      "text/plain": [
       "0"
      ]
     },
     "execution_count": 29,
     "metadata": {},
     "output_type": "execute_result"
    }
   ],
   "source": [
    "demet2.index(\"ali\")"
   ]
  },
  {
   "cell_type": "code",
   "execution_count": 31,
   "id": "dbf523d4",
   "metadata": {},
   "outputs": [
    {
     "data": {
      "text/plain": [
       "2"
      ]
     },
     "execution_count": 31,
     "metadata": {},
     "output_type": "execute_result"
    }
   ],
   "source": [
    "demet2.count(\"ali\")"
   ]
  },
  {
   "cell_type": "code",
   "execution_count": 7,
   "id": "31d86a91",
   "metadata": {},
   "outputs": [],
   "source": [
    "demet=(1,)"
   ]
  },
  {
   "cell_type": "code",
   "execution_count": 8,
   "id": "7cffeb51",
   "metadata": {},
   "outputs": [
    {
     "data": {
      "text/plain": [
       "(1,)"
      ]
     },
     "execution_count": 8,
     "metadata": {},
     "output_type": "execute_result"
    }
   ],
   "source": [
    "demet"
   ]
  },
  {
   "cell_type": "code",
   "execution_count": null,
   "id": "1420d977",
   "metadata": {},
   "outputs": [],
   "source": []
  }
 ],
 "metadata": {
  "kernelspec": {
   "display_name": "Python 3 (ipykernel)",
   "language": "python",
   "name": "python3"
  },
  "language_info": {
   "codemirror_mode": {
    "name": "ipython",
    "version": 3
   },
   "file_extension": ".py",
   "mimetype": "text/x-python",
   "name": "python",
   "nbconvert_exporter": "python",
   "pygments_lexer": "ipython3",
   "version": "3.10.9"
  }
 },
 "nbformat": 4,
 "nbformat_minor": 5
}
