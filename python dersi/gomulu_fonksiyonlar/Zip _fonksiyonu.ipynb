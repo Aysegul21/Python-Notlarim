{
 "cells": [
  {
   "cell_type": "code",
   "execution_count": 4,
   "id": "f023fb8e",
   "metadata": {},
   "outputs": [
    {
     "name": "stdout",
     "output_type": "stream",
     "text": [
      "[(1, 6), (2, 7), (3, 8), (4, 9), (5, 10)]\n"
     ]
    }
   ],
   "source": [
    "liste1 = [1,2,3,4,5]\n",
    "liste2 = [6,7,8,9,10,11]\n",
    "\n",
    "# sonucu [(1,6),(2,7),(3,8),(4,9),(5,10)] yapmaya calisalimm\n",
    "i = 0\n",
    "sonuc = list()\n",
    "while(i < len(liste1) and i < len(liste2)):\n",
    "    sonuc.append((liste1[i],liste2[i]))\n",
    "    i += 1\n",
    "print(sonuc)"
   ]
  },
  {
   "cell_type": "code",
   "execution_count": 5,
   "id": "c1db3e78",
   "metadata": {},
   "outputs": [
    {
     "data": {
      "text/plain": [
       "[(1, 6), (2, 7), (3, 8), (4, 9), (5, 10)]"
      ]
     },
     "execution_count": 5,
     "metadata": {},
     "output_type": "execute_result"
    }
   ],
   "source": [
    "list(zip(liste1,liste2))"
   ]
  },
  {
   "cell_type": "code",
   "execution_count": 11,
   "id": "b8d42a04",
   "metadata": {},
   "outputs": [],
   "source": [
    "liste1 = [\"python\",\"php\",\"c\",\"java\"]\n",
    "liste2 = [1,2,3,4]"
   ]
  },
  {
   "cell_type": "code",
   "execution_count": 10,
   "id": "b96fc29c",
   "metadata": {},
   "outputs": [
    {
     "name": "stdout",
     "output_type": "stream",
     "text": [
      "1 python\n",
      "2 php\n",
      "3 c\n",
      "4 java\n"
     ]
    }
   ],
   "source": [
    "for i,j in zip(liste2,liste1):\n",
    "    print(i,j)"
   ]
  },
  {
   "cell_type": "code",
   "execution_count": 20,
   "id": "d8860f01",
   "metadata": {},
   "outputs": [],
   "source": [
    "sozluk1 = {\"elma\":1,\"armut\":2,\"kiraz\":3}\n",
    "sozluk2 = {\"bir\":1,\"iki\":2,\"uc\":3}"
   ]
  },
  {
   "cell_type": "code",
   "execution_count": 21,
   "id": "dcb1a23e",
   "metadata": {},
   "outputs": [
    {
     "data": {
      "text/plain": [
       "[('elma', 'bir'), ('armut', 'iki'), ('kiraz', 'uc')]"
      ]
     },
     "execution_count": 21,
     "metadata": {},
     "output_type": "execute_result"
    }
   ],
   "source": [
    "list(zip(sozluk1,sozluk2))"
   ]
  },
  {
   "cell_type": "code",
   "execution_count": 23,
   "id": "9162ab49",
   "metadata": {},
   "outputs": [
    {
     "data": {
      "text/plain": [
       "[(1, 1), (2, 2), (3, 3)]"
      ]
     },
     "execution_count": 23,
     "metadata": {},
     "output_type": "execute_result"
    }
   ],
   "source": [
    "list(zip(sozluk1.values(),sozluk2.values()))"
   ]
  },
  {
   "cell_type": "code",
   "execution_count": null,
   "id": "bb98aced",
   "metadata": {},
   "outputs": [],
   "source": []
  }
 ],
 "metadata": {
  "kernelspec": {
   "display_name": "Python 3 (ipykernel)",
   "language": "python",
   "name": "python3"
  },
  "language_info": {
   "codemirror_mode": {
    "name": "ipython",
    "version": 3
   },
   "file_extension": ".py",
   "mimetype": "text/x-python",
   "name": "python",
   "nbconvert_exporter": "python",
   "pygments_lexer": "ipython3",
   "version": "3.10.9"
  }
 },
 "nbformat": 4,
 "nbformat_minor": 5
}
