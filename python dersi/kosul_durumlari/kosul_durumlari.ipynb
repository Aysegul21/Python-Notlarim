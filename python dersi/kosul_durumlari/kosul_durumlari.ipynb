{
 "cells": [
  {
   "cell_type": "code",
   "execution_count": 1,
   "id": "3d30227d",
   "metadata": {},
   "outputs": [
    {
     "name": "stdout",
     "output_type": "stream",
     "text": [
      "9\n"
     ]
    }
   ],
   "source": [
    "a=2\n",
    "b=3\n",
    "c=4\n",
    "print(a+b+c)"
   ]
  },
  {
   "cell_type": "code",
   "execution_count": 3,
   "id": "a727ab83",
   "metadata": {},
   "outputs": [
    {
     "name": "stdout",
     "output_type": "stream",
     "text": [
      "2\n",
      "vbgf\n",
      "Merhaba\n"
     ]
    }
   ],
   "source": [
    "a=2#blok 1'e ait kod\n",
    "if(a==2):\n",
    "    print(a)#blok 2'ye ait kod .. 4 bosluk birakildi\n",
    "print(\"Merhaba\")#blok 1'e ait kod"
   ]
  },
  {
   "cell_type": "code",
   "execution_count": 4,
   "id": "85c23c59",
   "metadata": {},
   "outputs": [
    {
     "name": "stdout",
     "output_type": "stream",
     "text": [
      "Merhaba\n"
     ]
    }
   ],
   "source": [
    "a=2#blok 1'e ait kod\n",
    "if(a==3):\n",
    "    print(a)#blok 2'ye ait kod .. 4 bosluk birakildi\n",
    "print(\"Merhaba\")#blok 1'e ait kod"
   ]
  },
  {
   "cell_type": "code",
   "execution_count": 5,
   "id": "e471fdf2",
   "metadata": {},
   "outputs": [],
   "source": [
    "#kosullu durumlar"
   ]
  },
  {
   "cell_type": "code",
   "execution_count": 6,
   "id": "bb1d4d6e",
   "metadata": {},
   "outputs": [],
   "source": [
    "#if blogu"
   ]
  },
  {
   "cell_type": "code",
   "execution_count": 9,
   "id": "e72a0cd3",
   "metadata": {},
   "outputs": [
    {
     "name": "stdout",
     "output_type": "stream",
     "text": [
      "yasinizi giriniz:23\n"
     ]
    }
   ],
   "source": [
    "yas=int(input(\"yasinizi giriniz:\"))\n",
    "if (yas < 18):\n",
    "    print(\"Mekana giremezsiniz.\")"
   ]
  },
  {
   "cell_type": "code",
   "execution_count": 10,
   "id": "c81ea372",
   "metadata": {},
   "outputs": [],
   "source": [
    "#else blogu"
   ]
  },
  {
   "cell_type": "code",
   "execution_count": 13,
   "id": "7680ed9a",
   "metadata": {},
   "outputs": [
    {
     "name": "stdout",
     "output_type": "stream",
     "text": [
      "yasinizi giriniz:19\n",
      "Mekana girebilirsiniz.\n"
     ]
    }
   ],
   "source": [
    "yas=int(input(\"yasinizi giriniz:\"))\n",
    "if (yas < 18):\n",
    "    print(\"Mekana giremezsiniz.\")\n",
    "else:\n",
    "    print(\"Mekana girebilirsiniz.\")"
   ]
  },
  {
   "cell_type": "code",
   "execution_count": 18,
   "id": "f6d464ca",
   "metadata": {},
   "outputs": [
    {
     "name": "stdout",
     "output_type": "stream",
     "text": [
      "sayiyi giriniz:0\n",
      "Sifir\n"
     ]
    }
   ],
   "source": [
    "sayi=int(input(\"sayiyi giriniz:\"))\n",
    "if sayi < 0:\n",
    "    print(\"Negatif tam sayi\")\n",
    "elif sayi == 0:\n",
    "    print(\"Sifir\")\n",
    "else:\n",
    "    print(\"Pozitif tam sayi\")\n",
    "\n",
    "    "
   ]
  },
  {
   "cell_type": "code",
   "execution_count": 30,
   "id": "2467d477",
   "metadata": {},
   "outputs": [
    {
     "name": "stdout",
     "output_type": "stream",
     "text": [
      "Notunuzu giriniz:65\n",
      "CB\n"
     ]
    }
   ],
   "source": [
    "note = int(input(\"Notunuzu giriniz:\"))\n",
    "if (note >= 90):\n",
    "    print(\"AA\")\n",
    "elif (note >= 80):\n",
    "    print(\"BA\")\n",
    "elif (note >= 70):\n",
    "    print(\"BB\")\n",
    "elif (note >= 60):\n",
    "    print(\"CB\")\n",
    "elif (note >= 50):\n",
    "    print(\"cc\")\n",
    "else:\n",
    "    print(\"Dersten Kaldiniz.\")"
   ]
  },
  {
   "cell_type": "code",
   "execution_count": null,
   "id": "a160cdf8",
   "metadata": {},
   "outputs": [],
   "source": []
  }
 ],
 "metadata": {
  "kernelspec": {
   "display_name": "Python 3 (ipykernel)",
   "language": "python",
   "name": "python3"
  },
  "language_info": {
   "codemirror_mode": {
    "name": "ipython",
    "version": 3
   },
   "file_extension": ".py",
   "mimetype": "text/x-python",
   "name": "python",
   "nbconvert_exporter": "python",
   "pygments_lexer": "ipython3",
   "version": "3.10.9"
  }
 },
 "nbformat": 4,
 "nbformat_minor": 5
}
