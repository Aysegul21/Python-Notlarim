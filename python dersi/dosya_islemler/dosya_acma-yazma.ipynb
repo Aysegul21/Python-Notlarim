{
 "cells": [
  {
   "cell_type": "code",
   "execution_count": 12,
   "id": "4cb503db",
   "metadata": {},
   "outputs": [
    {
     "data": {
      "text/plain": [
       "'\\nbir dosyayı acmak icin open() fonksiyonunu kullanıyoruz\\nyapisi:\\n    open(dosya_adi,dosyaerisim_kipi)\\n    \\n\"w\" dosya kipi\\ndosyayi acmak ve dosyalarimiza yazmak icin write anlamına gelen \"w\" kipini kullanıyoruz.\\neger girdigimiz dosya adi o dizinde yoksa olusturuyor varsa da silip yeniden olusturuyor.\\n'"
      ]
     },
     "execution_count": 12,
     "metadata": {},
     "output_type": "execute_result"
    }
   ],
   "source": [
    "#Dosyayi acmak\n",
    "\"\"\"\n",
    "bir dosyayı acmak icin open() fonksiyonunu kullanıyoruz\n",
    "yapisi:\n",
    "    open(dosya_adi,dosyaerisim_kipi)\n",
    "    \n",
    "\"w\" dosya kipi\n",
    "dosyayi acmak ve dosyalarimiza yazmak icin write anlamına gelen \"w\" kipini kullanıyoruz.\n",
    "eger girdigimiz dosya adi o dizinde yoksa olusturuyor varsa da silip yeniden olusturuyor.\n",
    "\"\"\""
   ]
  },
  {
   "cell_type": "code",
   "execution_count": 13,
   "id": "0d79e099",
   "metadata": {},
   "outputs": [
    {
     "data": {
      "text/plain": [
       "<_io.TextIOWrapper name='bilgiler.txt' mode='w' encoding='UTF-8'>"
      ]
     },
     "execution_count": 13,
     "metadata": {},
     "output_type": "execute_result"
    }
   ],
   "source": [
    "open(\"bilgiler.txt\",\"w\")"
   ]
  },
  {
   "cell_type": "code",
   "execution_count": 14,
   "id": "4985e26f",
   "metadata": {},
   "outputs": [],
   "source": [
    "file = open(\"bilgiler.txt\",\"w\")"
   ]
  },
  {
   "cell_type": "code",
   "execution_count": 15,
   "id": "4abce781",
   "metadata": {},
   "outputs": [],
   "source": [
    "file.close()  "
   ]
  },
  {
   "cell_type": "code",
   "execution_count": 16,
   "id": "b4bb7bbe",
   "metadata": {},
   "outputs": [],
   "source": [
    "file = open(\"bilgiler.txt\",\"w\",encoding = \"utf-8\")"
   ]
  },
  {
   "cell_type": "code",
   "execution_count": 17,
   "id": "44062090",
   "metadata": {},
   "outputs": [
    {
     "data": {
      "text/plain": [
       "23"
      ]
     },
     "execution_count": 17,
     "metadata": {},
     "output_type": "execute_result"
    }
   ],
   "source": [
    "file.write(\"Ayşegül Tekeş 220303060\")"
   ]
  },
  {
   "cell_type": "code",
   "execution_count": 24,
   "id": "98c2a2d5",
   "metadata": {},
   "outputs": [],
   "source": [
    "file.close()"
   ]
  },
  {
   "cell_type": "code",
   "execution_count": 25,
   "id": "4bd9b794",
   "metadata": {},
   "outputs": [],
   "source": [
    "file = open(\"bilgiler.txt\",\"a\",encoding = \"utf-8\")"
   ]
  },
  {
   "cell_type": "code",
   "execution_count": 26,
   "id": "f36d8041",
   "metadata": {},
   "outputs": [
    {
     "data": {
      "text/plain": [
       "9"
      ]
     },
     "execution_count": 26,
     "metadata": {},
     "output_type": "execute_result"
    }
   ],
   "source": [
    "file.write(\"\\nselam!!!\")"
   ]
  },
  {
   "cell_type": "code",
   "execution_count": 27,
   "id": "11f16e5f",
   "metadata": {},
   "outputs": [],
   "source": [
    "file.close()"
   ]
  },
  {
   "cell_type": "code",
   "execution_count": null,
   "id": "17465dac",
   "metadata": {},
   "outputs": [],
   "source": []
  }
 ],
 "metadata": {
  "kernelspec": {
   "display_name": "Python 3 (ipykernel)",
   "language": "python",
   "name": "python3"
  },
  "language_info": {
   "codemirror_mode": {
    "name": "ipython",
    "version": 3
   },
   "file_extension": ".py",
   "mimetype": "text/x-python",
   "name": "python",
   "nbconvert_exporter": "python",
   "pygments_lexer": "ipython3",
   "version": "3.10.9"
  }
 },
 "nbformat": 4,
 "nbformat_minor": 5
}
