{
 "cells": [
  {
   "cell_type": "code",
   "execution_count": 1,
   "id": "aa129992",
   "metadata": {},
   "outputs": [],
   "source": [
    "file = open(\"bilgiler.txt\",\"r\",encoding = \"utf-8\")"
   ]
  },
  {
   "cell_type": "code",
   "execution_count": 2,
   "id": "32ee54ae",
   "metadata": {},
   "outputs": [
    {
     "name": "stdout",
     "output_type": "stream",
     "text": [
      "Derya SACAV 23411356743 Derya SACAV 23411356743 Ayşegül TEKEŞ 220303060\n",
      " dilleridir.\n",
      "Sedef SEDREF\n",
      "ASLI GULDERE\n",
      "ASLI GULDERE\n",
      "ASLI GULDERE\n",
      "ASLI GULDERE\n",
      "ASLI GULDERE\n",
      "Seda Alkas 213234432\n",
      " dilleridir.\n",
      "ASLI GULDERE\n",
      "ASLI GULDERE\n",
      "ASLI GULDERE\n",
      "ASLI GULDERE\n",
      "ASLI GULDERE\n",
      "ASLI GULDERE\n",
      "Seda Alkas 213234432\n"
     ]
    }
   ],
   "source": [
    "for i in file:\n",
    "    print(i,end = \"\")\n",
    "file.close()"
   ]
  },
  {
   "cell_type": "code",
   "execution_count": 3,
   "id": "1bf04c7a",
   "metadata": {},
   "outputs": [
    {
     "name": "stdout",
     "output_type": "stream",
     "text": [
      "Dosyanin icerigi:\n",
      " Derya SACAV 23411356743 Derya SACAV 23411356743 Ayşegül TEKEŞ 220303060\n",
      " dilleridir.\n",
      "Sedef SEDREF\n",
      "ASLI GULDERE\n",
      "ASLI GULDERE\n",
      "ASLI GULDERE\n",
      "ASLI GULDERE\n",
      "ASLI GULDERE\n",
      "Seda Alkas 213234432\n",
      " dilleridir.\n",
      "ASLI GULDERE\n",
      "ASLI GULDERE\n",
      "ASLI GULDERE\n",
      "ASLI GULDERE\n",
      "ASLI GULDERE\n",
      "ASLI GULDERE\n",
      "Seda Alkas 213234432\n",
      "\n",
      "Dosyanin icerigi 2:\n",
      "\n"
     ]
    }
   ],
   "source": [
    "file = open(\"bilgiler.txt\",\"r\",encoding = \"utf-8\")\n",
    "icerik = file.read()\n",
    "print(\"Dosyanin icerigi:\\n\",icerik)\n",
    "\n",
    "print(\"Dosyanin icerigi 2:\")\n",
    "icerik2 = file.read()\n",
    "\n",
    "print(icerik2)\n",
    "\n"
   ]
  },
  {
   "cell_type": "code",
   "execution_count": 12,
   "id": "74665b29",
   "metadata": {},
   "outputs": [],
   "source": [
    "file.close()"
   ]
  },
  {
   "cell_type": "code",
   "execution_count": 19,
   "id": "e8453211",
   "metadata": {},
   "outputs": [
    {
     "name": "stdout",
     "output_type": "stream",
     "text": [
      "Ayşegül Tekeş 220303060 selam!!!\n",
      "\n",
      "selam!!!\n",
      "\n"
     ]
    }
   ],
   "source": [
    "file = open(\"bilgiler.txt\",\"r\",encoding = \"utf-8\")\n",
    "print(file.readline())\n",
    "print(file.readline())\n",
    "print(file.readline())\n",
    "file.close()"
   ]
  },
  {
   "cell_type": "code",
   "execution_count": 20,
   "id": "1a11f052",
   "metadata": {},
   "outputs": [
    {
     "name": "stdout",
     "output_type": "stream",
     "text": [
      "['Ayşegül Tekeş 220303060 selam!!!\\n', 'selam!!!']\n"
     ]
    }
   ],
   "source": [
    "file = open(\"bilgiler.txt\",\"r\",encoding = \"utf-8\")\n",
    "\n",
    "liste = file.readlines()\n",
    "print(liste)\n",
    "file.close()\n"
   ]
  },
  {
   "cell_type": "code",
   "execution_count": null,
   "id": "e9ef5b1f",
   "metadata": {},
   "outputs": [],
   "source": []
  }
 ],
 "metadata": {
  "kernelspec": {
   "display_name": "Python 3 (ipykernel)",
   "language": "python",
   "name": "python3"
  },
  "language_info": {
   "codemirror_mode": {
    "name": "ipython",
    "version": 3
   },
   "file_extension": ".py",
   "mimetype": "text/x-python",
   "name": "python",
   "nbconvert_exporter": "python",
   "pygments_lexer": "ipython3",
   "version": "3.10.9"
  }
 },
 "nbformat": 4,
 "nbformat_minor": 5
}
