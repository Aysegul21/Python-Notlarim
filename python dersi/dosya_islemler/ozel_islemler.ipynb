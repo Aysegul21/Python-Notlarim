{
 "cells": [
  {
   "cell_type": "code",
   "execution_count": 12,
   "id": "ca526acb",
   "metadata": {},
   "outputs": [
    {
     "data": {
      "text/plain": [
       "'\\nDOSYALARI OTOMATIK KAPATMA\\nwith open(dosya_adi,dosya_kipi) as file:\\n    Dosya islemleri\\n'"
      ]
     },
     "execution_count": 12,
     "metadata": {},
     "output_type": "execute_result"
    }
   ],
   "source": [
    "\"\"\"\n",
    "DOSYALARI OTOMATIK KAPATMA\n",
    "with open(dosya_adi,dosya_kipi) as file:\n",
    "    Dosya islemleri\n",
    "\"\"\""
   ]
  },
  {
   "cell_type": "code",
   "execution_count": 13,
   "id": "d590e783",
   "metadata": {},
   "outputs": [
    {
     "name": "stdout",
     "output_type": "stream",
     "text": [
      "Python,Java,Php programlama dilleridir.\n"
     ]
    }
   ],
   "source": [
    "with open(\"bilgiler.txt\",\"r\",encoding = \"utf-8\") as file:\n",
    "    for i in file:\n",
    "        print(i,end = \"\")"
   ]
  },
  {
   "cell_type": "code",
   "execution_count": 14,
   "id": "0668b29f",
   "metadata": {},
   "outputs": [
    {
     "name": "stdout",
     "output_type": "stream",
     "text": [
      "0\n"
     ]
    }
   ],
   "source": [
    "with open(\"bilgiler.txt\",\"r\",encoding = \"utf-8\") as file:\n",
    "    print(file.tell()) #dosya imlecinin nerede oldugunu gosterir"
   ]
  },
  {
   "cell_type": "code",
   "execution_count": 15,
   "id": "f5332471",
   "metadata": {},
   "outputs": [
    {
     "name": "stdout",
     "output_type": "stream",
     "text": [
      "0\n",
      "20\n"
     ]
    }
   ],
   "source": [
    "with open(\"bilgiler.txt\",\"r\",encoding = \"utf-8\") as file:\n",
    "    print(file.tell())\n",
    "    file.seek(20)#imleci istedigimiz yere gonderimi\n",
    "    print(file.tell())"
   ]
  },
  {
   "cell_type": "code",
   "execution_count": 16,
   "id": "9caef827",
   "metadata": {},
   "outputs": [
    {
     "name": "stdout",
     "output_type": "stream",
     "text": [
      "n,Java,Php\n"
     ]
    }
   ],
   "source": [
    "with open(\"bilgiler.txt\",\"r\",encoding = \"utf-8\") as file:  \n",
    "    file.seek(5)#imleci istedigimiz yere gonderimi\n",
    "    icerik = file.read(10)\n",
    "    print(icerik)\n"
   ]
  },
  {
   "cell_type": "code",
   "execution_count": 18,
   "id": "66c13550",
   "metadata": {},
   "outputs": [
    {
     "name": "stdout",
     "output_type": "stream",
     "text": [
      "Python,Java,Php programlama dilleridir.\n",
      "\n"
     ]
    }
   ],
   "source": [
    "with open(\"bilgiler.txt\",\"r+\",encoding = \"utf-8\") as file:\n",
    "    print(file.read())\n",
    " "
   ]
  },
  {
   "cell_type": "code",
   "execution_count": 19,
   "id": "32f1c65c",
   "metadata": {},
   "outputs": [],
   "source": [
    "with open(\"bilgiler.txt\",\"r+\",encoding = \"utf-8\") as file:\n",
    "    file.seek(10)\n",
    "    file.write(\"Ayşegül TEKEŞ 220303060\")"
   ]
  },
  {
   "cell_type": "code",
   "execution_count": 20,
   "id": "3d9ebd89",
   "metadata": {},
   "outputs": [
    {
     "name": "stdout",
     "output_type": "stream",
     "text": [
      "Python,JavAyşegül TEKEŞ 220303060ir.\n",
      "\n"
     ]
    }
   ],
   "source": [
    "with open(\"bilgiler.txt\",\"r+\",encoding = \"utf-8\") as file:\n",
    "    print(file.read())\n",
    " "
   ]
  },
  {
   "cell_type": "code",
   "execution_count": 21,
   "id": "b0a2c3fb",
   "metadata": {},
   "outputs": [],
   "source": [
    "#DOSYA SONUNA DEGİSİKLİK YAPMA"
   ]
  },
  {
   "cell_type": "code",
   "execution_count": 22,
   "id": "8994b70c",
   "metadata": {},
   "outputs": [],
   "source": [
    "with open(\"bilgiler.txt\",\"a\",encoding = \"utf-8\") as file:\n",
    "    file.write(\"Seda Alkas 213234432\\n\")"
   ]
  },
  {
   "cell_type": "code",
   "execution_count": 23,
   "id": "9f0ff55b",
   "metadata": {},
   "outputs": [
    {
     "name": "stdout",
     "output_type": "stream",
     "text": [
      "Python,Java,Php programlama dilleridir.\n",
      "Seda Alkas 213234432\n",
      "\n"
     ]
    }
   ],
   "source": [
    "with open(\"bilgiler.txt\",\"r\",encoding = \"utf-8\") as file:\n",
    "    print(file.read())\n",
    " "
   ]
  },
  {
   "cell_type": "code",
   "execution_count": 28,
   "id": "25fa8bb6",
   "metadata": {},
   "outputs": [
    {
     "name": "stdout",
     "output_type": "stream",
     "text": [
      "\n",
      " dilleridir.\n",
      "Seda Alkas 213234432\n",
      "\n"
     ]
    }
   ],
   "source": [
    "with open(\"bilgiler.txt\",\"r+\",encoding = \"utf-8\") as file:\n",
    "    file.write(\"Ayşegül TEKEŞ 220303060\")\n",
    "    icerik = file.read()\n",
    "    \n",
    "    print(icerik)"
   ]
  },
  {
   "cell_type": "code",
   "execution_count": 30,
   "id": "84d16bfa",
   "metadata": {},
   "outputs": [
    {
     "name": "stdout",
     "output_type": "stream",
     "text": [
      "Ayşegül TEKEŞ 220303060\n",
      " dilleridir.\n",
      "Seda Alkas 213234432\n",
      "\n"
     ]
    }
   ],
   "source": [
    "with open(\"bilgiler.txt\",\"r+\",encoding = \"utf-8\") as file:\n",
    "    #file.write(\"Ayşegül TEKEŞ 220303060\")\n",
    "    icerik = file.read()\n",
    "    file.seek(0)\n",
    "    print(icerik)"
   ]
  },
  {
   "cell_type": "code",
   "execution_count": 33,
   "id": "8add1315",
   "metadata": {},
   "outputs": [],
   "source": [
    "with open(\"bilgiler.txt\",\"r+\",encoding = \"utf-8\") as file:\n",
    "    #file.write(\"Ayşegül TEKEŞ 220303060\")\n",
    "    icerik = file.read()\n",
    "    icerik = \"Derya SACAV 23411356743 \" + icerik\n",
    "    file.seek(0)\n",
    "    file.write(icerik)"
   ]
  },
  {
   "cell_type": "code",
   "execution_count": 34,
   "id": "1b7bcedf",
   "metadata": {},
   "outputs": [
    {
     "name": "stdout",
     "output_type": "stream",
     "text": [
      "Derya SACAV 23411356743 Derya SACAV 23411356743 Ayşegül TEKEŞ 220303060\n",
      " dilleridir.\n",
      "Seda Alkas 213234432\n",
      "\n"
     ]
    }
   ],
   "source": [
    "with open(\"bilgiler.txt\",\"r+\",encoding = \"utf-8\") as file:\n",
    "    print(file.read())"
   ]
  },
  {
   "cell_type": "code",
   "execution_count": 35,
   "id": "c3661307",
   "metadata": {},
   "outputs": [],
   "source": [
    "#DOSYANIN ORTASINA DEGISIKLIK YAPMAK"
   ]
  },
  {
   "cell_type": "code",
   "execution_count": 36,
   "id": "bd2ebb66",
   "metadata": {},
   "outputs": [
    {
     "name": "stdout",
     "output_type": "stream",
     "text": [
      "['Derya SACAV 23411356743 Derya SACAV 23411356743 Ayşegül TEKEŞ 220303060\\n', ' dilleridir.\\n', 'Seda Alkas 213234432\\n']\n"
     ]
    }
   ],
   "source": [
    "with open(\"bilgiler.txt\",\"r+\",encoding = \"utf-8\") as file:\n",
    "    liste = file.readlines()\n",
    "    print(liste)"
   ]
  },
  {
   "cell_type": "code",
   "execution_count": 46,
   "id": "12efe502",
   "metadata": {},
   "outputs": [
    {
     "name": "stdout",
     "output_type": "stream",
     "text": [
      " dilleridir.\n",
      "ASLI GULDERE\n",
      "ASLI GULDERE\n",
      "ASLI GULDERE\n",
      "ASLI GULDERE\n",
      "ASLI GULDERE\n",
      "Seda Alkas 213234432\n",
      "\n",
      "\n",
      "\n",
      "\n",
      "\n",
      "\n",
      "\n",
      "\n",
      "\n"
     ]
    }
   ],
   "source": [
    "with open(\"bilgiler.txt\",\"r+\",encoding = \"utf-8\") as file:\n",
    "    liste = file.readlines()\n",
    "    liste.insert(2,\"ASLI GULDERE\\n\")\n",
    "    file.seek(0)\n",
    "    for i in liste:\n",
    "        file.write(i)\n",
    "        print(file.read())"
   ]
  },
  {
   "cell_type": "code",
   "execution_count": 47,
   "id": "1bb9a89c",
   "metadata": {},
   "outputs": [],
   "source": [
    "with open(\"bilgiler.txt\",\"r+\",encoding = \"utf-8\") as file:\n",
    "    liste = file.readlines()\n",
    "    liste.insert(2,\"Sedef SEDREF\\n\")\n",
    "    file.seek(0)\n",
    "    file.writelines(liste)"
   ]
  },
  {
   "cell_type": "code",
   "execution_count": 48,
   "id": "e8aee1c0",
   "metadata": {},
   "outputs": [
    {
     "name": "stdout",
     "output_type": "stream",
     "text": [
      "Derya SACAV 23411356743 Derya SACAV 23411356743 Ayşegül TEKEŞ 220303060\n",
      " dilleridir.\n",
      "Sedef SEDREF\n",
      "ASLI GULDERE\n",
      "ASLI GULDERE\n",
      "ASLI GULDERE\n",
      "ASLI GULDERE\n",
      "ASLI GULDERE\n",
      "Seda Alkas 213234432\n",
      " dilleridir.\n",
      "ASLI GULDERE\n",
      "ASLI GULDERE\n",
      "ASLI GULDERE\n",
      "ASLI GULDERE\n",
      "ASLI GULDERE\n",
      "ASLI GULDERE\n",
      "Seda Alkas 213234432\n",
      "\n"
     ]
    }
   ],
   "source": [
    "with open(\"bilgiler.txt\",\"r+\",encoding = \"utf-8\") as file:\n",
    "        print(file.read())"
   ]
  },
  {
   "cell_type": "code",
   "execution_count": null,
   "id": "dacc722e",
   "metadata": {},
   "outputs": [],
   "source": []
  }
 ],
 "metadata": {
  "kernelspec": {
   "display_name": "Python 3 (ipykernel)",
   "language": "python",
   "name": "python3"
  },
  "language_info": {
   "codemirror_mode": {
    "name": "ipython",
    "version": 3
   },
   "file_extension": ".py",
   "mimetype": "text/x-python",
   "name": "python",
   "nbconvert_exporter": "python",
   "pygments_lexer": "ipython3",
   "version": "3.10.9"
  }
 },
 "nbformat": 4,
 "nbformat_minor": 5
}
