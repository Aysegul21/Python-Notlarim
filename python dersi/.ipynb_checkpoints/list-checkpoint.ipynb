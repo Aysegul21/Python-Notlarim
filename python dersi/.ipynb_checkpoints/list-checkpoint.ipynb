{
 "cells": [
  {
   "cell_type": "code",
   "execution_count": 1,
   "id": "c4346a5e",
   "metadata": {},
   "outputs": [],
   "source": [
    "#listeler"
   ]
  },
  {
   "cell_type": "code",
   "execution_count": 7,
   "id": "8d452631",
   "metadata": {},
   "outputs": [
    {
     "data": {
      "text/plain": [
       "[3, 4, 5, 6, 'elma', 3.14, 5.432]"
      ]
     },
     "execution_count": 7,
     "metadata": {},
     "output_type": "execute_result"
    }
   ],
   "source": [
    "liste = [3,4,5,6,\"elma\",3.14,5.432]\n",
    "liste"
   ]
  },
  {
   "cell_type": "code",
   "execution_count": 8,
   "id": "0ad19a13",
   "metadata": {},
   "outputs": [
    {
     "data": {
      "text/plain": [
       "[3, 4, 5, 6, 7, 8, 9]"
      ]
     },
     "execution_count": 8,
     "metadata": {},
     "output_type": "execute_result"
    }
   ],
   "source": [
    "liste2=[3,4,5,6,7,8,9]\n",
    "liste2"
   ]
  },
  {
   "cell_type": "code",
   "execution_count": 11,
   "id": "963991bf",
   "metadata": {},
   "outputs": [
    {
     "data": {
      "text/plain": [
       "[]"
      ]
     },
     "execution_count": 11,
     "metadata": {},
     "output_type": "execute_result"
    }
   ],
   "source": [
    "bos_liste = [] #bos_liste =liste() ile de olusturulabilir\n",
    "bos_liste"
   ]
  },
  {
   "cell_type": "code",
   "execution_count": 12,
   "id": "6051a02f",
   "metadata": {},
   "outputs": [
    {
     "data": {
      "text/plain": [
       "[]"
      ]
     },
     "execution_count": 12,
     "metadata": {},
     "output_type": "execute_result"
    }
   ],
   "source": [
    "bosliste= list()\n",
    "bosliste"
   ]
  },
  {
   "cell_type": "code",
   "execution_count": 14,
   "id": "b4794777",
   "metadata": {},
   "outputs": [
    {
     "data": {
      "text/plain": [
       "9"
      ]
     },
     "execution_count": 14,
     "metadata": {},
     "output_type": "execute_result"
    }
   ],
   "source": [
    "liste3=[1,2,3,4,5,6,7,8,9]\n",
    "len(liste3)"
   ]
  },
  {
   "cell_type": "code",
   "execution_count": 17,
   "id": "adf4af25",
   "metadata": {},
   "outputs": [
    {
     "data": {
      "text/plain": [
       "['m', 'e', 'r', 'h', 'a', 'b', 'a']"
      ]
     },
     "execution_count": 17,
     "metadata": {},
     "output_type": "execute_result"
    }
   ],
   "source": [
    "s=\"merhaba\"\n",
    "lst = list(s)\n",
    "lst"
   ]
  },
  {
   "cell_type": "code",
   "execution_count": 18,
   "id": "c67056fb",
   "metadata": {},
   "outputs": [],
   "source": [
    "#listelerde indeksleme ve parcalama"
   ]
  },
  {
   "cell_type": "code",
   "execution_count": 19,
   "id": "0cefb828",
   "metadata": {},
   "outputs": [
    {
     "data": {
      "text/plain": [
       "[3, 4, 5, 6, 7, 8, 9, 10]"
      ]
     },
     "execution_count": 19,
     "metadata": {},
     "output_type": "execute_result"
    }
   ],
   "source": [
    "liste = [3,4,5,6,7,8,9,10]\n",
    "liste"
   ]
  },
  {
   "cell_type": "code",
   "execution_count": 20,
   "id": "9d0e6b6d",
   "metadata": {},
   "outputs": [
    {
     "data": {
      "text/plain": [
       "3"
      ]
     },
     "execution_count": 20,
     "metadata": {},
     "output_type": "execute_result"
    }
   ],
   "source": [
    "liste[0]"
   ]
  },
  {
   "cell_type": "code",
   "execution_count": 22,
   "id": "b1cf0f30",
   "metadata": {},
   "outputs": [
    {
     "data": {
      "text/plain": [
       "10"
      ]
     },
     "execution_count": 22,
     "metadata": {},
     "output_type": "execute_result"
    }
   ],
   "source": [
    "liste[len(liste)-1]"
   ]
  },
  {
   "cell_type": "code",
   "execution_count": 23,
   "id": "113158f8",
   "metadata": {},
   "outputs": [
    {
     "data": {
      "text/plain": [
       "3"
      ]
     },
     "execution_count": 23,
     "metadata": {},
     "output_type": "execute_result"
    }
   ],
   "source": [
    "liste[-len(liste)]"
   ]
  },
  {
   "cell_type": "code",
   "execution_count": 24,
   "id": "d5f88aa0",
   "metadata": {},
   "outputs": [
    {
     "data": {
      "text/plain": [
       "10"
      ]
     },
     "execution_count": 24,
     "metadata": {},
     "output_type": "execute_result"
    }
   ],
   "source": [
    "liste[-1]"
   ]
  },
  {
   "cell_type": "code",
   "execution_count": 25,
   "id": "763dc1bb",
   "metadata": {},
   "outputs": [
    {
     "data": {
      "text/plain": [
       "[3, 4, 5, 6]"
      ]
     },
     "execution_count": 25,
     "metadata": {},
     "output_type": "execute_result"
    }
   ],
   "source": [
    "liste[:4:]"
   ]
  },
  {
   "cell_type": "code",
   "execution_count": 26,
   "id": "f200b1a9",
   "metadata": {},
   "outputs": [
    {
     "data": {
      "text/plain": [
       "[8, 9, 10]"
      ]
     },
     "execution_count": 26,
     "metadata": {},
     "output_type": "execute_result"
    }
   ],
   "source": [
    "liste[5::]"
   ]
  },
  {
   "cell_type": "code",
   "execution_count": 27,
   "id": "2c5e414a",
   "metadata": {},
   "outputs": [],
   "source": [
    "#Temel liste metodları ve islemleri"
   ]
  },
  {
   "cell_type": "code",
   "execution_count": 33,
   "id": "10567d42",
   "metadata": {},
   "outputs": [
    {
     "data": {
      "text/plain": [
       "[1, 2, 3, 4, 5, 6, 7, 8, 9, 10]"
      ]
     },
     "execution_count": 33,
     "metadata": {},
     "output_type": "execute_result"
    }
   ],
   "source": [
    "liste1=[1,2,3,4,5]\n",
    "liste2=[6,7,8,9,10]\n",
    "liste1+liste2"
   ]
  },
  {
   "cell_type": "code",
   "execution_count": 34,
   "id": "e598acda",
   "metadata": {},
   "outputs": [
    {
     "data": {
      "text/plain": [
       "[6, 7, 8, 9, 10]"
      ]
     },
     "execution_count": 34,
     "metadata": {},
     "output_type": "execute_result"
    }
   ],
   "source": [
    "liste2"
   ]
  },
  {
   "cell_type": "code",
   "execution_count": 35,
   "id": "656154fc",
   "metadata": {},
   "outputs": [
    {
     "data": {
      "text/plain": [
       "[1, 2, 3, 4, 5, 6, 7, 8, 9, 10]"
      ]
     },
     "execution_count": 35,
     "metadata": {},
     "output_type": "execute_result"
    }
   ],
   "source": [
    "liste2=liste1+liste2\n",
    "liste2"
   ]
  },
  {
   "cell_type": "code",
   "execution_count": 37,
   "id": "cc6afffb",
   "metadata": {},
   "outputs": [
    {
     "data": {
      "text/plain": [
       "[1, 2, 3, 4, 'Murat']"
      ]
     },
     "execution_count": 37,
     "metadata": {},
     "output_type": "execute_result"
    }
   ],
   "source": [
    "liste = [1,2,3,4]\n",
    "liste =  liste + [\"Murat\"]\n",
    "liste"
   ]
  },
  {
   "cell_type": "code",
   "execution_count": 38,
   "id": "bc819d41",
   "metadata": {},
   "outputs": [],
   "source": [
    "liste[0]=\"turat\""
   ]
  },
  {
   "cell_type": "code",
   "execution_count": 39,
   "id": "4da1e958",
   "metadata": {},
   "outputs": [
    {
     "data": {
      "text/plain": [
       "['turat', 2, 3, 4, 'Murat']"
      ]
     },
     "execution_count": 39,
     "metadata": {},
     "output_type": "execute_result"
    }
   ],
   "source": [
    "liste"
   ]
  },
  {
   "cell_type": "code",
   "execution_count": 42,
   "id": "467f2434",
   "metadata": {},
   "outputs": [],
   "source": [
    "liste[::2]=[\"murat\",\"murat\",\"murat\"]"
   ]
  },
  {
   "cell_type": "code",
   "execution_count": 43,
   "id": "d9ff2e3c",
   "metadata": {},
   "outputs": [
    {
     "data": {
      "text/plain": [
       "['murat', 2, 'murat', 4, 'murat']"
      ]
     },
     "execution_count": 43,
     "metadata": {},
     "output_type": "execute_result"
    }
   ],
   "source": [
    "liste"
   ]
  },
  {
   "cell_type": "code",
   "execution_count": 44,
   "id": "3c5ade09",
   "metadata": {},
   "outputs": [
    {
     "data": {
      "text/plain": [
       "['murat',\n",
       " 2,\n",
       " 'murat',\n",
       " 4,\n",
       " 'murat',\n",
       " 'murat',\n",
       " 2,\n",
       " 'murat',\n",
       " 4,\n",
       " 'murat',\n",
       " 'murat',\n",
       " 2,\n",
       " 'murat',\n",
       " 4,\n",
       " 'murat']"
      ]
     },
     "execution_count": 44,
     "metadata": {},
     "output_type": "execute_result"
    }
   ],
   "source": [
    "liste*3"
   ]
  },
  {
   "cell_type": "code",
   "execution_count": 48,
   "id": "be86d08c",
   "metadata": {},
   "outputs": [
    {
     "data": {
      "text/plain": [
       "[1, 2, 3, 4, 7]"
      ]
     },
     "execution_count": 48,
     "metadata": {},
     "output_type": "execute_result"
    }
   ],
   "source": [
    "liste=[1,2,3,4]\n",
    "liste.append(7)\n",
    "liste"
   ]
  },
  {
   "cell_type": "code",
   "execution_count": 51,
   "id": "09641533",
   "metadata": {},
   "outputs": [],
   "source": [
    "liste.append(\"murat\")"
   ]
  },
  {
   "cell_type": "code",
   "execution_count": 52,
   "id": "f282c0f2",
   "metadata": {},
   "outputs": [
    {
     "data": {
      "text/plain": [
       "[1, 2, 3, 4, 7, 'murat']"
      ]
     },
     "execution_count": 52,
     "metadata": {},
     "output_type": "execute_result"
    }
   ],
   "source": [
    "liste"
   ]
  },
  {
   "cell_type": "code",
   "execution_count": 53,
   "id": "57d3492d",
   "metadata": {},
   "outputs": [],
   "source": [
    "#pop metodu\n",
    "#Bu metod, içine değer vermezsek listenin son indeksindeki elemanı, \n",
    "#değer verirsek verdiğimiz değere karşılık gelen indeksteki elemanı\n",
    "#listeden atar ve attığı elemanı ekrana basar"
   ]
  },
  {
   "cell_type": "code",
   "execution_count": 54,
   "id": "e2c1ba6d",
   "metadata": {},
   "outputs": [
    {
     "data": {
      "text/plain": [
       "[1, 2, 3, 4, 5]"
      ]
     },
     "execution_count": 54,
     "metadata": {},
     "output_type": "execute_result"
    }
   ],
   "source": [
    "liste=[1,2,3,4,5]\n",
    "liste"
   ]
  },
  {
   "cell_type": "code",
   "execution_count": 55,
   "id": "21cb863d",
   "metadata": {},
   "outputs": [
    {
     "data": {
      "text/plain": [
       "5"
      ]
     },
     "execution_count": 55,
     "metadata": {},
     "output_type": "execute_result"
    }
   ],
   "source": [
    "liste.pop()"
   ]
  },
  {
   "cell_type": "code",
   "execution_count": 56,
   "id": "31cbfef2",
   "metadata": {},
   "outputs": [
    {
     "data": {
      "text/plain": [
       "[1, 2, 3, 4]"
      ]
     },
     "execution_count": 56,
     "metadata": {},
     "output_type": "execute_result"
    }
   ],
   "source": [
    "liste"
   ]
  },
  {
   "cell_type": "code",
   "execution_count": 57,
   "id": "9b90f360",
   "metadata": {},
   "outputs": [
    {
     "data": {
      "text/plain": [
       "4"
      ]
     },
     "execution_count": 57,
     "metadata": {},
     "output_type": "execute_result"
    }
   ],
   "source": [
    "liste.pop(3)"
   ]
  },
  {
   "cell_type": "code",
   "execution_count": 58,
   "id": "f4df3c65",
   "metadata": {},
   "outputs": [
    {
     "data": {
      "text/plain": [
       "[1, 2, 3]"
      ]
     },
     "execution_count": 58,
     "metadata": {},
     "output_type": "execute_result"
    }
   ],
   "source": [
    "liste"
   ]
  },
  {
   "cell_type": "code",
   "execution_count": 59,
   "id": "355eeb7b",
   "metadata": {},
   "outputs": [],
   "source": [
    "#sort metodu"
   ]
  },
  {
   "cell_type": "code",
   "execution_count": 68,
   "id": "d1a13b7f",
   "metadata": {},
   "outputs": [],
   "source": [
    "liste=[1,3,5,7,4,6,2]"
   ]
  },
  {
   "cell_type": "code",
   "execution_count": 69,
   "id": "09bf4471",
   "metadata": {},
   "outputs": [],
   "source": [
    "liste.sort()"
   ]
  },
  {
   "cell_type": "code",
   "execution_count": 70,
   "id": "bd65eae2",
   "metadata": {},
   "outputs": [
    {
     "data": {
      "text/plain": [
       "[1, 2, 3, 4, 5, 6, 7]"
      ]
     },
     "execution_count": 70,
     "metadata": {},
     "output_type": "execute_result"
    }
   ],
   "source": [
    "liste"
   ]
  },
  {
   "cell_type": "code",
   "execution_count": 71,
   "id": "07ceba44",
   "metadata": {},
   "outputs": [
    {
     "data": {
      "text/plain": [
       "[7, 6, 5, 4, 3, 2, 1]"
      ]
     },
     "execution_count": 71,
     "metadata": {},
     "output_type": "execute_result"
    }
   ],
   "source": [
    "liste.sort(reverse = True) # Büyükten küçüğe sıralar.\n",
    "liste"
   ]
  },
  {
   "cell_type": "code",
   "execution_count": 72,
   "id": "96671450",
   "metadata": {},
   "outputs": [
    {
     "data": {
      "text/plain": [
       "['Armut', 'Elma', 'Kiraz', 'Muz']"
      ]
     },
     "execution_count": 72,
     "metadata": {},
     "output_type": "execute_result"
    }
   ],
   "source": [
    "liste = [\"Elma\",\"Armut\",\"Muz\",\"Kiraz\"]\n",
    "liste.sort() # Alfabetic olarak küçükten büyüğe\n",
    "liste"
   ]
  },
  {
   "cell_type": "code",
   "execution_count": 73,
   "id": "b714ab03",
   "metadata": {},
   "outputs": [
    {
     "data": {
      "text/plain": [
       "['Muz', 'Kiraz', 'Elma', 'Armut']"
      ]
     },
     "execution_count": 73,
     "metadata": {},
     "output_type": "execute_result"
    }
   ],
   "source": [
    "liste = [\"Elma\",\"Armut\",\"Muz\",\"Kiraz\"]\n",
    "liste.sort(reverse = True) # Alfabetic olarak büyükten küçüğe \n",
    "liste"
   ]
  },
  {
   "cell_type": "code",
   "execution_count": 74,
   "id": "928d920a",
   "metadata": {},
   "outputs": [],
   "source": [
    "#ici ice listeler"
   ]
  },
  {
   "cell_type": "code",
   "execution_count": 75,
   "id": "0a337b2f",
   "metadata": {},
   "outputs": [
    {
     "data": {
      "text/plain": [
       "[[1, 2, 3], [4, 5, 6], [7, 8, 9]]"
      ]
     },
     "execution_count": 75,
     "metadata": {},
     "output_type": "execute_result"
    }
   ],
   "source": [
    "liste1 = [1,2,3]\n",
    "liste2 = [4,5,6]\n",
    "liste3 = [7,8,9]\n",
    "yeniliste = [liste1,liste2,liste3]\n",
    "yeniliste"
   ]
  },
  {
   "cell_type": "code",
   "execution_count": 76,
   "id": "50818047",
   "metadata": {},
   "outputs": [
    {
     "data": {
      "text/plain": [
       "4"
      ]
     },
     "execution_count": 76,
     "metadata": {},
     "output_type": "execute_result"
    }
   ],
   "source": [
    "yeniliste[1][0]"
   ]
  },
  {
   "cell_type": "code",
   "execution_count": null,
   "id": "b25ef0e2",
   "metadata": {},
   "outputs": [],
   "source": []
  }
 ],
 "metadata": {
  "kernelspec": {
   "display_name": "Python 3 (ipykernel)",
   "language": "python",
   "name": "python3"
  },
  "language_info": {
   "codemirror_mode": {
    "name": "ipython",
    "version": 3
   },
   "file_extension": ".py",
   "mimetype": "text/x-python",
   "name": "python",
   "nbconvert_exporter": "python",
   "pygments_lexer": "ipython3",
   "version": "3.10.9"
  }
 },
 "nbformat": 4,
 "nbformat_minor": 5
}
