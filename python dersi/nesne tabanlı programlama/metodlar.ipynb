{
 "cells": [
  {
   "cell_type": "code",
   "execution_count": 19,
   "id": "8a06e979",
   "metadata": {},
   "outputs": [],
   "source": [
    "class yazilimci():\n",
    "    \n",
    "    def __init__(self,isim,soyisim,yas,numara,maas,diller):\n",
    "        self.isim = isim\n",
    "        self.soyisim = soyisim\n",
    "        self.yas = yas\n",
    "        self.numara = numara\n",
    "        self.maas = maas\n",
    "        self.diller = diller\n",
    "        \n",
    "    def bilgileri_goster(self):\n",
    "        print(\"\"\"\n",
    "        yazılımcı objesinin ozellikleri \n",
    "        isim = {}\n",
    "        soyisim = {}\n",
    "        yas = {}\n",
    "        numara = {}\n",
    "        maas = {}\n",
    "        diller = {}\n",
    "        \n",
    "        \n",
    "        \"\"\".format(self.isim,self.soyisim,self.yas,self.numara,self.maas,self.diller))\n",
    "    \n",
    "    def zam_yap(self,zam_miktari):\n",
    "        print(\"ZAM YAPILIYOR...\")\n",
    "        self.maas += zam_miktari\n",
    "        \n",
    "    def dil_ekle(self,dil_ek):\n",
    "        print(\"DİL EKLENIYOR...\")\n",
    "        self.diller.append(dil_ek)"
   ]
  },
  {
   "cell_type": "code",
   "execution_count": 20,
   "id": "abe59a1b",
   "metadata": {},
   "outputs": [],
   "source": [
    "yazilimci1 = yazilimci(\"Aysegul\",\"TEKES\",19,220303060,1200,[\"c\",\"python\"])"
   ]
  },
  {
   "cell_type": "code",
   "execution_count": 21,
   "id": "c53a8e7b",
   "metadata": {},
   "outputs": [
    {
     "name": "stdout",
     "output_type": "stream",
     "text": [
      "\n",
      "        yazılımcı objesinin ozellikleri \n",
      "        isim = Aysegul\n",
      "        soyisim = TEKES\n",
      "        yas = 19\n",
      "        numara = 220303060\n",
      "        maas = 1200\n",
      "        diller = ['c', 'python']\n",
      "        \n",
      "        \n",
      "        \n"
     ]
    }
   ],
   "source": [
    "yazilimci1.bilgileri_goster()"
   ]
  },
  {
   "cell_type": "code",
   "execution_count": 22,
   "id": "5eb1298e",
   "metadata": {},
   "outputs": [
    {
     "name": "stdout",
     "output_type": "stream",
     "text": [
      "ZAM YAPILIYOR...\n"
     ]
    }
   ],
   "source": [
    "yazilimci1.zam_yap(600)"
   ]
  },
  {
   "cell_type": "code",
   "execution_count": 23,
   "id": "9ff951a9",
   "metadata": {},
   "outputs": [
    {
     "name": "stdout",
     "output_type": "stream",
     "text": [
      "\n",
      "        yazılımcı objesinin ozellikleri \n",
      "        isim = Aysegul\n",
      "        soyisim = TEKES\n",
      "        yas = 19\n",
      "        numara = 220303060\n",
      "        maas = 1800\n",
      "        diller = ['c', 'python']\n",
      "        \n",
      "        \n",
      "        \n"
     ]
    }
   ],
   "source": [
    "yazilimci1.bilgileri_goster()"
   ]
  },
  {
   "cell_type": "code",
   "execution_count": 24,
   "id": "1ffea437",
   "metadata": {},
   "outputs": [
    {
     "name": "stdout",
     "output_type": "stream",
     "text": [
      "DİL EKLENIYOR...\n"
     ]
    }
   ],
   "source": [
    "yazilimci1.dil_ekle(\"javascript\")"
   ]
  },
  {
   "cell_type": "code",
   "execution_count": 25,
   "id": "4bef7dbb",
   "metadata": {},
   "outputs": [
    {
     "name": "stdout",
     "output_type": "stream",
     "text": [
      "\n",
      "        yazılımcı objesinin ozellikleri \n",
      "        isim = Aysegul\n",
      "        soyisim = TEKES\n",
      "        yas = 19\n",
      "        numara = 220303060\n",
      "        maas = 1800\n",
      "        diller = ['c', 'python', 'javascript']\n",
      "        \n",
      "        \n",
      "        \n"
     ]
    }
   ],
   "source": [
    "yazilimci1.bilgileri_goster()"
   ]
  },
  {
   "cell_type": "code",
   "execution_count": null,
   "id": "d85bef9b",
   "metadata": {},
   "outputs": [],
   "source": []
  }
 ],
 "metadata": {
  "kernelspec": {
   "display_name": "Python 3 (ipykernel)",
   "language": "python",
   "name": "python3"
  },
  "language_info": {
   "codemirror_mode": {
    "name": "ipython",
    "version": 3
   },
   "file_extension": ".py",
   "mimetype": "text/x-python",
   "name": "python",
   "nbconvert_exporter": "python",
   "pygments_lexer": "ipython3",
   "version": "3.10.9"
  }
 },
 "nbformat": 4,
 "nbformat_minor": 5
}
