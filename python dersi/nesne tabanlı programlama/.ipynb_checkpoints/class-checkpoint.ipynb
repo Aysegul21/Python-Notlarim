{
 "cells": [
  {
   "cell_type": "code",
   "execution_count": 1,
   "id": "35d4b40e",
   "metadata": {},
   "outputs": [],
   "source": [
    "class araba():\n",
    "    model = \"renault megane\"\n",
    "    renk = \"gumus\"\n",
    "    beygir_gucu = 110\n",
    "    silindir_sayisi = 4"
   ]
  },
  {
   "cell_type": "code",
   "execution_count": 2,
   "id": "a346dd14",
   "metadata": {},
   "outputs": [],
   "source": [
    "araba1 = araba()"
   ]
  },
  {
   "cell_type": "code",
   "execution_count": 3,
   "id": "9cc64880",
   "metadata": {},
   "outputs": [
    {
     "data": {
      "text/plain": [
       "<__main__.araba at 0x7fad8d32ba00>"
      ]
     },
     "execution_count": 3,
     "metadata": {},
     "output_type": "execute_result"
    }
   ],
   "source": [
    "araba1"
   ]
  },
  {
   "cell_type": "code",
   "execution_count": 7,
   "id": "929b5b60",
   "metadata": {},
   "outputs": [],
   "source": [
    "araba2 = araba()"
   ]
  },
  {
   "cell_type": "code",
   "execution_count": 8,
   "id": "0c751240",
   "metadata": {},
   "outputs": [
    {
     "data": {
      "text/plain": [
       "<__main__.araba at 0x7fad884cdcc0>"
      ]
     },
     "execution_count": 8,
     "metadata": {},
     "output_type": "execute_result"
    }
   ],
   "source": [
    "araba2"
   ]
  },
  {
   "cell_type": "code",
   "execution_count": 9,
   "id": "ba8958eb",
   "metadata": {},
   "outputs": [
    {
     "data": {
      "text/plain": [
       "'renault megane'"
      ]
     },
     "execution_count": 9,
     "metadata": {},
     "output_type": "execute_result"
    }
   ],
   "source": [
    "araba1.model"
   ]
  },
  {
   "cell_type": "code",
   "execution_count": 10,
   "id": "34816ec2",
   "metadata": {},
   "outputs": [
    {
     "data": {
      "text/plain": [
       "110"
      ]
     },
     "execution_count": 10,
     "metadata": {},
     "output_type": "execute_result"
    }
   ],
   "source": [
    "araba2.beygir_gucu"
   ]
  },
  {
   "cell_type": "code",
   "execution_count": 11,
   "id": "ce73f716",
   "metadata": {},
   "outputs": [
    {
     "data": {
      "text/plain": [
       "110"
      ]
     },
     "execution_count": 11,
     "metadata": {},
     "output_type": "execute_result"
    }
   ],
   "source": [
    "araba.beygir_gucu"
   ]
  },
  {
   "cell_type": "code",
   "execution_count": 12,
   "id": "fabb493e",
   "metadata": {},
   "outputs": [
    {
     "data": {
      "text/plain": [
       "['__class__',\n",
       " '__delattr__',\n",
       " '__dict__',\n",
       " '__dir__',\n",
       " '__doc__',\n",
       " '__eq__',\n",
       " '__format__',\n",
       " '__ge__',\n",
       " '__getattribute__',\n",
       " '__gt__',\n",
       " '__hash__',\n",
       " '__init__',\n",
       " '__init_subclass__',\n",
       " '__le__',\n",
       " '__lt__',\n",
       " '__module__',\n",
       " '__ne__',\n",
       " '__new__',\n",
       " '__reduce__',\n",
       " '__reduce_ex__',\n",
       " '__repr__',\n",
       " '__setattr__',\n",
       " '__sizeof__',\n",
       " '__str__',\n",
       " '__subclasshook__',\n",
       " '__weakref__',\n",
       " 'beygir_gucu',\n",
       " 'model',\n",
       " 'renk',\n",
       " 'silindir_sayisi']"
      ]
     },
     "execution_count": 12,
     "metadata": {},
     "output_type": "execute_result"
    }
   ],
   "source": [
    "dir(araba1)"
   ]
  },
  {
   "cell_type": "code",
   "execution_count": 35,
   "id": "20025ee9",
   "metadata": {},
   "outputs": [],
   "source": [
    "class araba():\n",
    "    \n",
    "    def __init__(model,renk,beygir_gucu,silindir_sayisi):\n",
    "        print(\"init fonsiyonu cagirildi.\")\n",
    "        self.model = model\n",
    "        self.renk = renk\n",
    "        self.beygir_gucu = beygir_gucu\n",
    "        self.silindir_sayisi = silindi_sayisi\n",
    "    "
   ]
  },
  {
   "cell_type": "code",
   "execution_count": 36,
   "id": "f8263b0d",
   "metadata": {},
   "outputs": [
    {
     "ename": "TypeError",
     "evalue": "araba.__init__() takes 4 positional arguments but 5 were given",
     "output_type": "error",
     "traceback": [
      "\u001b[0;31m---------------------------------------------------------------------------\u001b[0m",
      "\u001b[0;31mTypeError\u001b[0m                                 Traceback (most recent call last)",
      "Cell \u001b[0;32mIn[36], line 1\u001b[0m\n\u001b[0;32m----> 1\u001b[0m araba1 \u001b[38;5;241m=\u001b[39m \u001b[43maraba\u001b[49m\u001b[43m(\u001b[49m\u001b[38;5;124;43m\"\u001b[39;49m\u001b[38;5;124;43mrenault megano\u001b[39;49m\u001b[38;5;124;43m\"\u001b[39;49m\u001b[43m,\u001b[49m\u001b[38;5;124;43m\"\u001b[39;49m\u001b[38;5;124;43mgumus\u001b[39;49m\u001b[38;5;124;43m\"\u001b[39;49m\u001b[43m,\u001b[49m\u001b[38;5;241;43m110\u001b[39;49m\u001b[43m,\u001b[49m\u001b[38;5;241;43m4\u001b[39;49m\u001b[43m)\u001b[49m\n",
      "\u001b[0;31mTypeError\u001b[0m: araba.__init__() takes 4 positional arguments but 5 were given"
     ]
    }
   ],
   "source": [
    "araba1 = araba(\"renault megano\",\"gumus\",110,4)"
   ]
  },
  {
   "cell_type": "code",
   "execution_count": 37,
   "id": "e949707c",
   "metadata": {},
   "outputs": [
    {
     "ename": "SyntaxError",
     "evalue": "non-default argument follows default argument (3547243615.py, line 3)",
     "output_type": "error",
     "traceback": [
      "\u001b[0;36m  Cell \u001b[0;32mIn[37], line 3\u001b[0;36m\u001b[0m\n\u001b[0;31m    def __init__(model=\"bigi yok\",renk=\"bilgi yok77\",beygir_gucu,silindir_sayisi=8):\u001b[0m\n\u001b[0m                                                     ^\u001b[0m\n\u001b[0;31mSyntaxError\u001b[0m\u001b[0;31m:\u001b[0m non-default argument follows default argument\n"
     ]
    }
   ],
   "source": [
    "class araba():\n",
    "    \n",
    "    def __init__(model=\"bigi yok\",renk=\"bilgi yok77\",beygir_gucu,silindir_sayisi=8):\n",
    "        print(\"init fonsiyonu cagirildi.\")\n",
    "        self.model = model\n",
    "        self.renk = renk\n",
    "        self.beygir_gucu = beygir_gucu\n",
    "        self.silindir_sayisi = silindi_sayisi\n",
    "    "
   ]
  },
  {
   "cell_type": "code",
   "execution_count": 38,
   "id": "7ee2c1bd",
   "metadata": {},
   "outputs": [
    {
     "ename": "TypeError",
     "evalue": "araba.__init__() missing 2 required positional arguments: 'renk' and 'silindir_sayisi'",
     "output_type": "error",
     "traceback": [
      "\u001b[0;31m---------------------------------------------------------------------------\u001b[0m",
      "\u001b[0;31mTypeError\u001b[0m                                 Traceback (most recent call last)",
      "Cell \u001b[0;32mIn[38], line 1\u001b[0m\n\u001b[0;32m----> 1\u001b[0m araba1 \u001b[38;5;241m=\u001b[39m \u001b[43maraba\u001b[49m\u001b[43m(\u001b[49m\u001b[43mbeygir_gucu\u001b[49m\u001b[38;5;241;43m=\u001b[39;49m\u001b[38;5;241;43m66\u001b[39;49m\u001b[43m)\u001b[49m\n",
      "\u001b[0;31mTypeError\u001b[0m: araba.__init__() missing 2 required positional arguments: 'renk' and 'silindir_sayisi'"
     ]
    }
   ],
   "source": [
    "araba1 = araba(beygir_gucu=66)"
   ]
  },
  {
   "cell_type": "code",
   "execution_count": 40,
   "id": "2a3581eb",
   "metadata": {},
   "outputs": [
    {
     "ename": "AttributeError",
     "evalue": "type object 'araba' has no attribute 'modeL'",
     "output_type": "error",
     "traceback": [
      "\u001b[0;31m---------------------------------------------------------------------------\u001b[0m",
      "\u001b[0;31mAttributeError\u001b[0m                            Traceback (most recent call last)",
      "Cell \u001b[0;32mIn[40], line 1\u001b[0m\n\u001b[0;32m----> 1\u001b[0m \u001b[43maraba\u001b[49m\u001b[38;5;241;43m.\u001b[39;49m\u001b[43mmodeL\u001b[49m\n",
      "\u001b[0;31mAttributeError\u001b[0m: type object 'araba' has no attribute 'modeL'"
     ]
    }
   ],
   "source": [
    "araba.modeL"
   ]
  },
  {
   "cell_type": "code",
   "execution_count": 41,
   "id": "b7fb45bf",
   "metadata": {},
   "outputs": [
    {
     "ename": "AttributeError",
     "evalue": "type object 'araba' has no attribute 'beygir_gucu'",
     "output_type": "error",
     "traceback": [
      "\u001b[0;31m---------------------------------------------------------------------------\u001b[0m",
      "\u001b[0;31mAttributeError\u001b[0m                            Traceback (most recent call last)",
      "Cell \u001b[0;32mIn[41], line 1\u001b[0m\n\u001b[0;32m----> 1\u001b[0m \u001b[43maraba\u001b[49m\u001b[38;5;241;43m.\u001b[39;49m\u001b[43mbeygir_gucu\u001b[49m\n",
      "\u001b[0;31mAttributeError\u001b[0m: type object 'araba' has no attribute 'beygir_gucu'"
     ]
    }
   ],
   "source": [
    "araba.beygir_gucu"
   ]
  },
  {
   "cell_type": "code",
   "execution_count": null,
   "id": "015908eb",
   "metadata": {},
   "outputs": [],
   "source": []
  }
 ],
 "metadata": {
  "kernelspec": {
   "display_name": "Python 3 (ipykernel)",
   "language": "python",
   "name": "python3"
  },
  "language_info": {
   "codemirror_mode": {
    "name": "ipython",
    "version": 3
   },
   "file_extension": ".py",
   "mimetype": "text/x-python",
   "name": "python",
   "nbconvert_exporter": "python",
   "pygments_lexer": "ipython3",
   "version": "3.10.9"
  }
 },
 "nbformat": 4,
 "nbformat_minor": 5
}
