{
 "cells": [
  {
   "cell_type": "code",
   "execution_count": 40,
   "id": "a9827c35",
   "metadata": {},
   "outputs": [],
   "source": [
    "class calisan():\n",
    "    def __init__(self,isim,maas,departman):\n",
    "        print(\"CALISAN SINIFIN INIT FONKSİYONU\")\n",
    "        \n",
    "        self.isim = isim\n",
    "        self.maas = maas\n",
    "        self.departman = departman\n",
    "    def bilgileri_goster(self):\n",
    "        print(\"CALISANLARIN BILGILERI\")\n",
    "        \n",
    "        print(\"\"\"\n",
    "        isim = {}\n",
    "        maas = {}\n",
    "        departman = {}\n",
    "        \n",
    "        \n",
    "        \"\"\".format(self.isim,self.maas,self.departman))\n",
    "    def departman_degistirme(self,yeni_departman):\n",
    "        self.departman = yeni_departman\n",
    "        \n",
    "        "
   ]
  },
  {
   "cell_type": "code",
   "execution_count": 41,
   "id": "f38ba575",
   "metadata": {},
   "outputs": [],
   "source": [
    "class yonetici(calisan):\n",
    "    pass # suan hicbirsey eklenmedi bloğa o yüzden bunu bidirir"
   ]
  },
  {
   "cell_type": "code",
   "execution_count": 47,
   "id": "350eddce",
   "metadata": {},
   "outputs": [
    {
     "name": "stdout",
     "output_type": "stream",
     "text": [
      "CALISAN SINIFIN INIT FONKSİYONU\n"
     ]
    }
   ],
   "source": [
    "yonetici1 = yonetici(\"Aysegul TEKES\",1200,\"bilisim\")"
   ]
  },
  {
   "cell_type": "code",
   "execution_count": 43,
   "id": "789438dd",
   "metadata": {},
   "outputs": [
    {
     "name": "stdout",
     "output_type": "stream",
     "text": [
      "CALISANLARIN BILGILERI\n",
      "\n",
      "        isim = Aysegul TEKES\n",
      "        maas = 1200\n",
      "        departman = bilisim\n",
      "        \n",
      "        \n",
      "        \n"
     ]
    }
   ],
   "source": [
    "yonetici1.bilgileri_goster()"
   ]
  },
  {
   "cell_type": "code",
   "execution_count": 44,
   "id": "5710227e",
   "metadata": {},
   "outputs": [],
   "source": [
    "yonetici1.departman_degistirme(\"Insan kaynaklari\")"
   ]
  },
  {
   "cell_type": "code",
   "execution_count": 51,
   "id": "d4eb6472",
   "metadata": {},
   "outputs": [
    {
     "name": "stdout",
     "output_type": "stream",
     "text": [
      "CALISANLARIN BILGILERI\n",
      "\n",
      "        isim = Aysegul TEKES\n",
      "        maas = 2100\n",
      "        departman = bilisim\n",
      "        \n",
      "        \n",
      "        \n"
     ]
    }
   ],
   "source": [
    "yonetici1.bilgileri_goster()"
   ]
  },
  {
   "cell_type": "code",
   "execution_count": 52,
   "id": "0fe45557",
   "metadata": {},
   "outputs": [],
   "source": [
    "class yonetici(calisan):\n",
    "    def zam_yapma(self,zam_miktari):\n",
    "        self.maas += zam_miktari"
   ]
  },
  {
   "cell_type": "code",
   "execution_count": 53,
   "id": "26a7dd7e",
   "metadata": {},
   "outputs": [
    {
     "name": "stdout",
     "output_type": "stream",
     "text": [
      "CALISANLARIN BILGILERI\n",
      "\n",
      "        isim = Aysegul TEKES\n",
      "        maas = 2100\n",
      "        departman = bilisim\n",
      "        \n",
      "        \n",
      "        \n"
     ]
    }
   ],
   "source": [
    "yonetici1.bilgileri_goster()"
   ]
  },
  {
   "cell_type": "code",
   "execution_count": 54,
   "id": "2d2a6602",
   "metadata": {},
   "outputs": [],
   "source": [
    "yonetici1.zam_yapma(900)"
   ]
  },
  {
   "cell_type": "code",
   "execution_count": 55,
   "id": "07fdd6a7",
   "metadata": {},
   "outputs": [
    {
     "name": "stdout",
     "output_type": "stream",
     "text": [
      "CALISANLARIN BILGILERI\n",
      "\n",
      "        isim = Aysegul TEKES\n",
      "        maas = 3000\n",
      "        departman = bilisim\n",
      "        \n",
      "        \n",
      "        \n"
     ]
    }
   ],
   "source": [
    "yonetici1.bilgileri_goster()"
   ]
  },
  {
   "cell_type": "code",
   "execution_count": 59,
   "id": "a37deb6a",
   "metadata": {},
   "outputs": [],
   "source": [
    "class calisan():\n",
    "    def __init__(self,isim,maas,departman):\n",
    "        print(\"CALISAN SINIFIN INIT FONKSİYONU\")\n",
    "        \n",
    "        self.isim = isim\n",
    "        self.maas = maas\n",
    "        self.departman = departman\n",
    "    def bilgileri_goster(self):\n",
    "        print(\"CALISANLARIN BILGILERI\")\n",
    "        \n",
    "        print(\"\"\"\n",
    "        isim = {}\n",
    "        maas = {}\n",
    "        departman = {}\n",
    "        \n",
    "        \n",
    "        \"\"\".format(self.isim,self.maas,self.departman))\n",
    "    def departman_degistirme(self,yeni_departman):\n",
    "        self.departman = yeni_departman\n",
    "        \n",
    "        "
   ]
  },
  {
   "cell_type": "code",
   "execution_count": 65,
   "id": "3ec7fa35",
   "metadata": {},
   "outputs": [],
   "source": [
    "class yonetici(calisan):\n",
    "    def __init__(self,isim,maas,departman,kisi_sayisi):\n",
    "        print(\"CALISAN SINIFIN INIT FONKSİYONU\")\n",
    "        \n",
    "        self.isim = isim\n",
    "        self.maas = maas\n",
    "        self.departman = departman\n",
    "        self.kisi_sayisi = kisi_sayisi\n",
    "        \n",
    "    def bilgileri_goster(self):\n",
    "        print(\"CALISANLARIN BILGILERI\")\n",
    "        \n",
    "        print(\"\"\"\n",
    "        isim = {}\n",
    "        maas = {}\n",
    "        departman = {}\n",
    "        kisi_sayisi = {}\n",
    "        \n",
    "        \"\"\".format(self.isim,self.maas,self.departman,self.kisi_sayisi))\n",
    "    def zam_yapma(self,zam_miktari):\n",
    "        self.maas += zam_miktari"
   ]
  },
  {
   "cell_type": "code",
   "execution_count": 66,
   "id": "d4b263c8",
   "metadata": {},
   "outputs": [
    {
     "name": "stdout",
     "output_type": "stream",
     "text": [
      "CALISAN SINIFIN INIT FONKSİYONU\n"
     ]
    }
   ],
   "source": [
    "yonetici1 = yonetici(\"Seda\",\"DERYA\",\"bilisimm\",12)"
   ]
  },
  {
   "cell_type": "code",
   "execution_count": 67,
   "id": "0dc5cad9",
   "metadata": {},
   "outputs": [
    {
     "name": "stdout",
     "output_type": "stream",
     "text": [
      "CALISANLARIN BILGILERI\n",
      "\n",
      "        isim = Seda\n",
      "        maas = DERYA\n",
      "        departman = bilisimm\n",
      "        kisi_sayisi = 12\n",
      "        \n",
      "        \n"
     ]
    }
   ],
   "source": [
    "yonetici1.bilgileri_goster()"
   ]
  },
  {
   "cell_type": "code",
   "execution_count": 68,
   "id": "6a8ad45c",
   "metadata": {},
   "outputs": [],
   "source": [
    "class calisan():\n",
    "    def __init__(self,isim,maas,departman):\n",
    "        print(\"CALISAN SINIFIN INIT FONKSİYONU\")\n",
    "        \n",
    "        self.isim = isim\n",
    "        self.maas = maas\n",
    "        self.departman = departman\n",
    "    def bilgileri_goster(self):\n",
    "        print(\"CALISANLARIN BILGILERI\")\n",
    "        \n",
    "        print(\"\"\"\n",
    "        isim = {}\n",
    "        maas = {}\n",
    "        departman = {}\n",
    "        \n",
    "        \n",
    "        \"\"\".format(self.isim,self.maas,self.departman))\n",
    "    def departman_degistirme(self,yeni_departman):\n",
    "        self.departman = yeni_departman\n",
    "        \n",
    "        "
   ]
  },
  {
   "cell_type": "code",
   "execution_count": 73,
   "id": "3deecaa0",
   "metadata": {},
   "outputs": [],
   "source": [
    "class yonetici(calisan):\n",
    "    def __init__(self,isim,maas,departman,kisi_sayisi):\n",
    "        #####################################\n",
    "        super().__init__(isim,maas,departman)\n",
    "        # super() ile tekrar self.isim felan yazma zorunluluuğu kalktı         \n",
    "        print(\"YONETICI SINIFIN INIT FONKSİYONU\")\n",
    "        \n",
    "        self.kisi_sayisi = kisi_sayisi\n",
    "        \n",
    "    def bilgileri_goster(self):\n",
    "        print(\"CALISANLARIN BILGILERI\")\n",
    "        \n",
    "        print(\"\"\"\n",
    "        isim = {}\n",
    "        maas = {}\n",
    "        departman = {}\n",
    "        kisi_sayisi = {}\n",
    "        \n",
    "        \"\"\".format(self.isim,self.maas,self.departman,self.kisi_sayisi))\n",
    "    def zam_yapma(self,zam_miktari):\n",
    "        self.maas += zam_miktari"
   ]
  },
  {
   "cell_type": "code",
   "execution_count": 74,
   "id": "e5ca7cbc",
   "metadata": {},
   "outputs": [
    {
     "name": "stdout",
     "output_type": "stream",
     "text": [
      "CALISAN SINIFIN INIT FONKSİYONU\n",
      "YONETICI SINIFIN INIT FONKSİYONU\n"
     ]
    }
   ],
   "source": [
    "yonetici1 = yonetici(\"oguz sare\",3212,\"saglik\",21)"
   ]
  },
  {
   "cell_type": "code",
   "execution_count": 75,
   "id": "0872b94c",
   "metadata": {},
   "outputs": [
    {
     "name": "stdout",
     "output_type": "stream",
     "text": [
      "CALISANLARIN BILGILERI\n",
      "\n",
      "        isim = oguz sare\n",
      "        maas = 3212\n",
      "        departman = saglik\n",
      "        kisi_sayisi = 21\n",
      "        \n",
      "        \n"
     ]
    }
   ],
   "source": [
    "yonetici1.bilgileri_goster()"
   ]
  },
  {
   "cell_type": "code",
   "execution_count": null,
   "id": "ed288170",
   "metadata": {},
   "outputs": [],
   "source": []
  }
 ],
 "metadata": {
  "kernelspec": {
   "display_name": "Python 3 (ipykernel)",
   "language": "python",
   "name": "python3"
  },
  "language_info": {
   "codemirror_mode": {
    "name": "ipython",
    "version": 3
   },
   "file_extension": ".py",
   "mimetype": "text/x-python",
   "name": "python",
   "nbconvert_exporter": "python",
   "pygments_lexer": "ipython3",
   "version": "3.10.9"
  }
 },
 "nbformat": 4,
 "nbformat_minor": 5
}
