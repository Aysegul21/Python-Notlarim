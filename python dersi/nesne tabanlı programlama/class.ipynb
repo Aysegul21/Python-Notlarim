{
 "cells": [
  {
   "cell_type": "code",
   "execution_count": 11,
   "id": "35d4b40e",
   "metadata": {},
   "outputs": [],
   "source": [
    "class araba():\n",
    "    model = \"renault megane\"\n",
    "    renk = \"gumus\"\n",
    "    beygir_gucu = 110\n",
    "    silindir_sayisi = 4"
   ]
  },
  {
   "cell_type": "code",
   "execution_count": 12,
   "id": "a346dd14",
   "metadata": {},
   "outputs": [],
   "source": [
    "araba1 = araba()"
   ]
  },
  {
   "cell_type": "code",
   "execution_count": 13,
   "id": "9cc64880",
   "metadata": {},
   "outputs": [
    {
     "data": {
      "text/plain": [
       "<__main__.araba at 0x7eff899523e0>"
      ]
     },
     "execution_count": 13,
     "metadata": {},
     "output_type": "execute_result"
    }
   ],
   "source": [
    "araba1"
   ]
  },
  {
   "cell_type": "code",
   "execution_count": 14,
   "id": "929b5b60",
   "metadata": {},
   "outputs": [],
   "source": [
    "araba2 = araba()"
   ]
  },
  {
   "cell_type": "code",
   "execution_count": 15,
   "id": "0c751240",
   "metadata": {},
   "outputs": [
    {
     "data": {
      "text/plain": [
       "<__main__.araba at 0x7eff89952680>"
      ]
     },
     "execution_count": 15,
     "metadata": {},
     "output_type": "execute_result"
    }
   ],
   "source": [
    "araba2"
   ]
  },
  {
   "cell_type": "code",
   "execution_count": 16,
   "id": "ba8958eb",
   "metadata": {},
   "outputs": [
    {
     "data": {
      "text/plain": [
       "'renault megane'"
      ]
     },
     "execution_count": 16,
     "metadata": {},
     "output_type": "execute_result"
    }
   ],
   "source": [
    "araba1.model  \n"
   ]
  },
  {
   "cell_type": "code",
   "execution_count": 17,
   "id": "34816ec2",
   "metadata": {},
   "outputs": [
    {
     "data": {
      "text/plain": [
       "110"
      ]
     },
     "execution_count": 17,
     "metadata": {},
     "output_type": "execute_result"
    }
   ],
   "source": [
    "araba2.beygir_gucu"
   ]
  },
  {
   "cell_type": "code",
   "execution_count": 11,
   "id": "ce73f716",
   "metadata": {},
   "outputs": [
    {
     "data": {
      "text/plain": [
       "110"
      ]
     },
     "execution_count": 11,
     "metadata": {},
     "output_type": "execute_result"
    }
   ],
   "source": [
    "araba.beygir_gucu"
   ]
  },
  {
   "cell_type": "code",
   "execution_count": 12,
   "id": "fabb493e",
   "metadata": {},
   "outputs": [
    {
     "data": {
      "text/plain": [
       "['__class__',\n",
       " '__delattr__',\n",
       " '__dict__',\n",
       " '__dir__',\n",
       " '__doc__',\n",
       " '__eq__',\n",
       " '__format__',\n",
       " '__ge__',\n",
       " '__getattribute__',\n",
       " '__gt__',\n",
       " '__hash__',\n",
       " '__init__',\n",
       " '__init_subclass__',\n",
       " '__le__',\n",
       " '__lt__',\n",
       " '__module__',\n",
       " '__ne__',\n",
       " '__new__',\n",
       " '__reduce__',\n",
       " '__reduce_ex__',\n",
       " '__repr__',\n",
       " '__setattr__',\n",
       " '__sizeof__',\n",
       " '__str__',\n",
       " '__subclasshook__',\n",
       " '__weakref__',\n",
       " 'beygir_gucu',\n",
       " 'model',\n",
       " 'renk',\n",
       " 'silindir_sayisi']"
      ]
     },
     "execution_count": 12,
     "metadata": {},
     "output_type": "execute_result"
    }
   ],
   "source": [
    "dir(araba1)"
   ]
  },
  {
   "cell_type": "code",
   "execution_count": 80,
   "id": "20025ee9",
   "metadata": {},
   "outputs": [],
   "source": [
    "class araba():\n",
    "    \n",
    "    def __init__(self,model,renk,beygir_gucu,silindir_sayisi):\n",
    "        print(\"init fonsiyonu cagirildi.\")\n",
    "        self.model = model\n",
    "        self.renk = renk\n",
    "        self.beygir_gucu = beygir_gucu\n",
    "        self.silindir_sayisi = silindir_sayisi\n",
    "    "
   ]
  },
  {
   "cell_type": "code",
   "execution_count": 81,
   "id": "f8263b0d",
   "metadata": {},
   "outputs": [
    {
     "name": "stdout",
     "output_type": "stream",
     "text": [
      "init fonsiyonu cagirildi.\n"
     ]
    }
   ],
   "source": [
    "araba1 = araba(\"renault megano\",\"gumus\",110,4)"
   ]
  },
  {
   "cell_type": "code",
   "execution_count": 82,
   "id": "437d9c20",
   "metadata": {},
   "outputs": [
    {
     "name": "stdout",
     "output_type": "stream",
     "text": [
      "init fonsiyonu cagirildi.\n"
     ]
    }
   ],
   "source": [
    "araba2 = araba(\"Peugeot\",\"beyaz\",90,4)"
   ]
  },
  {
   "cell_type": "code",
   "execution_count": 21,
   "id": "0632e938",
   "metadata": {},
   "outputs": [
    {
     "data": {
      "text/plain": [
       "'renault megane'"
      ]
     },
     "execution_count": 21,
     "metadata": {},
     "output_type": "execute_result"
    }
   ],
   "source": [
    "araba.model"
   ]
  },
  {
   "cell_type": "code",
   "execution_count": 22,
   "id": "e949707c",
   "metadata": {},
   "outputs": [
    {
     "ename": "SyntaxError",
     "evalue": "non-default argument follows default argument (3547243615.py, line 3)",
     "output_type": "error",
     "traceback": [
      "\u001b[0;36m  Cell \u001b[0;32mIn[22], line 3\u001b[0;36m\u001b[0m\n\u001b[0;31m    def __init__(model=\"bigi yok\",renk=\"bilgi yok77\",beygir_gucu,silindir_sayisi=8):\u001b[0m\n\u001b[0m                                                     ^\u001b[0m\n\u001b[0;31mSyntaxError\u001b[0m\u001b[0;31m:\u001b[0m non-default argument follows default argument\n"
     ]
    }
   ],
   "source": [
    "class araba():\n",
    "    \n",
    "    def __init__(model=\"bigi yok\",renk=\"bilgi yok77\",beygir_gucu,silindir_sayisi=8):\n",
    "        print(\"init fonsiyonu cagirildi.\")\n",
    "        self.model = model\n",
    "        self.renk = renk\n",
    "        self.beygir_gucu = beygir_gucu\n",
    "        self.silindir_sayisi = silindi_sayisi\n",
    "    "
   ]
  },
  {
   "cell_type": "code",
   "execution_count": 23,
   "id": "7ee2c1bd",
   "metadata": {},
   "outputs": [],
   "source": [
    "araba1 = araba"
   ]
  },
  {
   "cell_type": "code",
   "execution_count": 74,
   "id": "2a3581eb",
   "metadata": {},
   "outputs": [
    {
     "data": {
      "text/plain": [
       "'dd'"
      ]
     },
     "execution_count": 74,
     "metadata": {},
     "output_type": "execute_result"
    }
   ],
   "source": [
    "araba.model"
   ]
  },
  {
   "cell_type": "code",
   "execution_count": 77,
   "id": "b7fb45bf",
   "metadata": {},
   "outputs": [],
   "source": [
    "araba.beygir_gucu = 99"
   ]
  },
  {
   "cell_type": "code",
   "execution_count": 78,
   "id": "015908eb",
   "metadata": {},
   "outputs": [
    {
     "data": {
      "text/plain": [
       "99"
      ]
     },
     "execution_count": 78,
     "metadata": {},
     "output_type": "execute_result"
    }
   ],
   "source": [
    "araba.beygir_gucu"
   ]
  },
  {
   "cell_type": "code",
   "execution_count": 87,
   "id": "fa8fd617",
   "metadata": {},
   "outputs": [],
   "source": [
    "import random"
   ]
  },
  {
   "cell_type": "code",
   "execution_count": 110,
   "id": "cb35e81b",
   "metadata": {},
   "outputs": [
    {
     "data": {
      "text/plain": [
       "1"
      ]
     },
     "execution_count": 110,
     "metadata": {},
     "output_type": "execute_result"
    }
   ],
   "source": [
    "sayi = random.randint(0,1)\n",
    "sayi"
   ]
  },
  {
   "cell_type": "code",
   "execution_count": null,
   "id": "2c97a1a7",
   "metadata": {},
   "outputs": [],
   "source": []
  },
  {
   "cell_type": "code",
   "execution_count": null,
   "id": "539dca9f",
   "metadata": {},
   "outputs": [],
   "source": []
  }
 ],
 "metadata": {
  "kernelspec": {
   "display_name": "Python 3 (ipykernel)",
   "language": "python",
   "name": "python3"
  },
  "language_info": {
   "codemirror_mode": {
    "name": "ipython",
    "version": 3
   },
   "file_extension": ".py",
   "mimetype": "text/x-python",
   "name": "python",
   "nbconvert_exporter": "python",
   "pygments_lexer": "ipython3",
   "version": "3.10.9"
  }
 },
 "nbformat": 4,
 "nbformat_minor": 5
}
