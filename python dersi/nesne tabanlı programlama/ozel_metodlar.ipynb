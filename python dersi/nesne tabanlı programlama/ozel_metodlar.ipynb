{
 "cells": [
  {
   "cell_type": "code",
   "execution_count": 25,
   "id": "e24153f3",
   "metadata": {},
   "outputs": [],
   "source": [
    "class kitap():\n",
    "    pass"
   ]
  },
  {
   "cell_type": "code",
   "execution_count": 19,
   "id": "cbb0fdd8",
   "metadata": {},
   "outputs": [],
   "source": [
    "kitap1 = kitap()"
   ]
  },
  {
   "cell_type": "code",
   "execution_count": 20,
   "id": "06b67fb9",
   "metadata": {},
   "outputs": [
    {
     "name": "stdout",
     "output_type": "stream",
     "text": [
      "<__main__.kitap object at 0x7f2137858280>\n"
     ]
    }
   ],
   "source": [
    "print(kitap1)"
   ]
  },
  {
   "cell_type": "code",
   "execution_count": 21,
   "id": "3d64c18e",
   "metadata": {},
   "outputs": [
    {
     "ename": "TypeError",
     "evalue": "object of type 'type' has no len()",
     "output_type": "error",
     "traceback": [
      "\u001b[0;31m---------------------------------------------------------------------------\u001b[0m",
      "\u001b[0;31mTypeError\u001b[0m                                 Traceback (most recent call last)",
      "Cell \u001b[0;32mIn[21], line 1\u001b[0m\n\u001b[0;32m----> 1\u001b[0m \u001b[38;5;28;43mlen\u001b[39;49m\u001b[43m(\u001b[49m\u001b[43mkitap\u001b[49m\u001b[43m)\u001b[49m\n",
      "\u001b[0;31mTypeError\u001b[0m: object of type 'type' has no len()"
     ]
    }
   ],
   "source": [
    "len(kitap)"
   ]
  },
  {
   "cell_type": "code",
   "execution_count": 22,
   "id": "bbe46a65",
   "metadata": {},
   "outputs": [],
   "source": [
    "del kitap"
   ]
  },
  {
   "cell_type": "code",
   "execution_count": 27,
   "id": "11e50e11",
   "metadata": {},
   "outputs": [
    {
     "data": {
      "text/plain": [
       "__main__.kitap"
      ]
     },
     "execution_count": 27,
     "metadata": {},
     "output_type": "execute_result"
    }
   ],
   "source": [
    "kitap"
   ]
  },
  {
   "cell_type": "code",
   "execution_count": 37,
   "id": "a71fde3b",
   "metadata": {
    "scrolled": true
   },
   "outputs": [],
   "source": [
    "class kitap():\n",
    "    def __init__(self,isim,yazar,sayfa_sayisi,tur):\n",
    "        print(\"INIT FONKSİYONU...\")\n",
    "        self.isim = isim\n",
    "        self.yazar = yazar\n",
    "        self.sayfa_sayisi = sayfa_sayisi\n",
    "        self.tur = tur\n",
    "    def __str__(self):\n",
    "        return \"isim:{}\\nyazar:{}\\nsayfa sayisi:{}\\nturu:{}\".format(self.isim,self.yazar,self.sayfa_sayisi,self.tur)"
   ]
  },
  {
   "cell_type": "code",
   "execution_count": 38,
   "id": "6aa4580d",
   "metadata": {},
   "outputs": [
    {
     "name": "stdout",
     "output_type": "stream",
     "text": [
      "INIT FONKSİYONU...\n"
     ]
    }
   ],
   "source": [
    "kitap1  = kitap(\"Istanbul Hatirasi\",\"Ahmet Umit\",561,\"polisiye\")"
   ]
  },
  {
   "cell_type": "code",
   "execution_count": 39,
   "id": "d6b6b824",
   "metadata": {},
   "outputs": [
    {
     "name": "stdout",
     "output_type": "stream",
     "text": [
      "isim:Istanbul Hatirasi\n",
      "yazar:Ahmet Umit\n",
      "sayfa sayisi:561\n",
      "turu:polisiye\n"
     ]
    }
   ],
   "source": [
    "print(kitap1)"
   ]
  },
  {
   "cell_type": "code",
   "execution_count": 42,
   "id": "0acd49fb",
   "metadata": {},
   "outputs": [],
   "source": [
    "class kitap():\n",
    "    def __init__(self,isim,yazar,sayfa_sayisi,tur):\n",
    "        print(\"INIT FONKSİYONU...\")\n",
    "        self.isim = isim\n",
    "        self.yazar = yazar\n",
    "        self.sayfa_sayisi = sayfa_sayisi\n",
    "        self.tur = tur\n",
    "    def __str__(self):\n",
    "        return \"isim:{}\\nyazar:{}\\nsayfa sayisi:{}\\nturu:{}\".format(self.isim,self.yazar,self.sayfa_sayisi,self.tur)\n",
    "    def __len__(self):\n",
    "        return self.sayfa_sayisi"
   ]
  },
  {
   "cell_type": "code",
   "execution_count": 51,
   "id": "27fee9ac",
   "metadata": {},
   "outputs": [
    {
     "name": "stdout",
     "output_type": "stream",
     "text": [
      "INIT FONKSİYONU...\n"
     ]
    }
   ],
   "source": [
    "kitap1  = kitap(\"Istanbul Hatirasi\",\"Ahmet Umit\",561,\"polisiye\")"
   ]
  },
  {
   "cell_type": "code",
   "execution_count": 46,
   "id": "2dc86ed4",
   "metadata": {},
   "outputs": [
    {
     "data": {
      "text/plain": [
       "561"
      ]
     },
     "execution_count": 46,
     "metadata": {},
     "output_type": "execute_result"
    }
   ],
   "source": [
    "len(kitap1)"
   ]
  },
  {
   "cell_type": "code",
   "execution_count": 55,
   "id": "34ac2bb9",
   "metadata": {},
   "outputs": [],
   "source": [
    "class kitap():\n",
    "    def __init__(self,isim,yazar,sayfa_sayisi,tur):\n",
    "        print(\"INIT FONKSİYONU...\")\n",
    "        self.isim = isim\n",
    "        self.yazar = yazar\n",
    "        self.sayfa_sayisi = sayfa_sayisi\n",
    "        self.tur = tur\n",
    "    def __str__(self):\n",
    "        return \"isim:{}\\nyazar:{}\\nsayfa sayisi:{}\\nturu:{}\".format(self.isim,self.yazar,self.sayfa_sayisi,self.tur)\n",
    "    def __len__(self):\n",
    "        return self.sayfa_sayisi\n",
    "    def __del__(self):\n",
    "        pr\n",
    "        int(\"kitap objesi siliniyor..........\")\n",
    "    "
   ]
  },
  {
   "cell_type": "code",
   "execution_count": 56,
   "id": "36922d10",
   "metadata": {},
   "outputs": [
    {
     "ename": "NameError",
     "evalue": "name 'kitap1' is not defined",
     "output_type": "error",
     "traceback": [
      "\u001b[0;31m---------------------------------------------------------------------------\u001b[0m",
      "\u001b[0;31mNameError\u001b[0m                                 Traceback (most recent call last)",
      "Cell \u001b[0;32mIn[56], line 1\u001b[0m\n\u001b[0;32m----> 1\u001b[0m \u001b[38;5;28;01mdel\u001b[39;00m kitap1\n",
      "\u001b[0;31mNameError\u001b[0m: name 'kitap1' is not defined"
     ]
    }
   ],
   "source": [
    "del kitap1"
   ]
  },
  {
   "cell_type": "code",
   "execution_count": 57,
   "id": "bd35e420",
   "metadata": {},
   "outputs": [
    {
     "ename": "NameError",
     "evalue": "name 'kitap1' is not defined",
     "output_type": "error",
     "traceback": [
      "\u001b[0;31m---------------------------------------------------------------------------\u001b[0m",
      "\u001b[0;31mNameError\u001b[0m                                 Traceback (most recent call last)",
      "Cell \u001b[0;32mIn[57], line 1\u001b[0m\n\u001b[0;32m----> 1\u001b[0m \u001b[38;5;28mprint\u001b[39m(\u001b[43mkitap1\u001b[49m)\n",
      "\u001b[0;31mNameError\u001b[0m: name 'kitap1' is not defined"
     ]
    }
   ],
   "source": [
    " print(kitap1)"
   ]
  },
  {
   "cell_type": "code",
   "execution_count": null,
   "id": "ebc4c99f",
   "metadata": {},
   "outputs": [],
   "source": []
  }
 ],
 "metadata": {
  "kernelspec": {
   "display_name": "Python 3 (ipykernel)",
   "language": "python",
   "name": "python3"
  },
  "language_info": {
   "codemirror_mode": {
    "name": "ipython",
    "version": 3
   },
   "file_extension": ".py",
   "mimetype": "text/x-python",
   "name": "python",
   "nbconvert_exporter": "python",
   "pygments_lexer": "ipython3",
   "version": "3.10.9"
  }
 },
 "nbformat": 4,
 "nbformat_minor": 5
}
